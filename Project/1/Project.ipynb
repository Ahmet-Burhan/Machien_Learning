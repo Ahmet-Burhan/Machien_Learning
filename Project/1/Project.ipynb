{
  "cells": [
    {
      "cell_type": "markdown",
      "metadata": {
        "id": "curQqdpMbV8a"
      },
      "source": [
        "<img src=\"https://miro.medium.com/max/647/1*ZOcUPrSXLYucFxppoI-dYg.png\">"
      ]
    },
    {
      "cell_type": "markdown",
      "metadata": {
        "id": "vIdfp9zXbV8w"
      },
      "source": [
        "# Problem definition\n"
      ]
    },
    {
      "cell_type": "markdown",
      "metadata": {
        "id": "_f1vwRmsbV8z"
      },
      "source": [
        "For this project we are using a car dataset, where we want to predict the selling price of car based on its certain features.\n",
        "Since we need to find the real value, with real calculation, therefore this problem is regression problem. \n",
        "We will be using linear regression to solve this problem.\n",
        "\n",
        "General equation of Multiple Linear Regression:\n",
        "$$y = \\beta_0 + \\beta_{1}x_1 + \\beta_{2}x_2 + \\beta_{3}x_3 + \\beta_{4}x_4 + ... + \\beta_{n}x_n$$"
      ]
    },
    {
      "cell_type": "markdown",
      "metadata": {
        "id": "m79bZ3ojbV82"
      },
      "source": [
        "# Libraries"
      ]
    },
    {
      "cell_type": "code",
      "execution_count": 1,
      "metadata": {
        "id": "zk6tvPRBbV84"
      },
      "outputs": [],
      "source": [
        "import numpy as np\n",
        "import pandas as pd\n",
        "import matplotlib.pyplot as plt\n",
        "import seaborn as sns\n",
        "plt.rcParams[\"figure.figsize\"] = (10,6)\n",
        "pd.set_option('display.max_columns', 100)"
      ]
    },
    {
      "cell_type": "markdown",
      "metadata": {
        "id": "GXE-_7lLXhoq"
      },
      "source": []
    },
    {
      "cell_type": "markdown",
      "metadata": {
        "id": "Zu7fPn5HbV87"
      },
      "source": [
        "# Data Gathering"
      ]
    },
    {
      "cell_type": "code",
      "execution_count": 6,
      "metadata": {
        "id": "Hgyy7dkrbV89"
      },
      "outputs": [],
      "source": [
        "df=pd.read_csv(\"final_scout_dummy.csv\") "
      ]
    },
    {
      "cell_type": "markdown",
      "metadata": {
        "id": "EyXAGsjnbV8_"
      },
      "source": [
        "# Data Preparation"
      ]
    },
    {
      "cell_type": "code",
      "execution_count": 7,
      "metadata": {
        "colab": {
          "base_uri": "https://localhost:8080/",
          "height": 351
        },
        "id": "zoySlXabbV9B",
        "outputId": "486069ff-6d93-40a7-837f-8358a82d611d"
      },
      "outputs": [
        {
          "data": {
            "text/html": [
              "<div>\n",
              "<style scoped>\n",
              "    .dataframe tbody tr th:only-of-type {\n",
              "        vertical-align: middle;\n",
              "    }\n",
              "\n",
              "    .dataframe tbody tr th {\n",
              "        vertical-align: top;\n",
              "    }\n",
              "\n",
              "    .dataframe thead th {\n",
              "        text-align: right;\n",
              "    }\n",
              "</style>\n",
              "<table border=\"1\" class=\"dataframe\">\n",
              "  <thead>\n",
              "    <tr style=\"text-align: right;\">\n",
              "      <th></th>\n",
              "      <th>price</th>\n",
              "      <th>km</th>\n",
              "      <th>Gears</th>\n",
              "      <th>age</th>\n",
              "      <th>Previous_Owners</th>\n",
              "      <th>hp_kW</th>\n",
              "      <th>Inspection_new</th>\n",
              "      <th>Displacement_cc</th>\n",
              "      <th>Weight_kg</th>\n",
              "      <th>cons_comb</th>\n",
              "      <th>cc_Air conditioning</th>\n",
              "      <th>cc_Air suspension</th>\n",
              "      <th>cc_Armrest</th>\n",
              "      <th>cc_Automatic climate control</th>\n",
              "      <th>cc_Auxiliary heating</th>\n",
              "      <th>cc_Cruise control</th>\n",
              "      <th>cc_Electric Starter</th>\n",
              "      <th>cc_Electric tailgate</th>\n",
              "      <th>cc_Electrical side mirrors</th>\n",
              "      <th>cc_Electrically adjustable seats</th>\n",
              "      <th>cc_Electrically heated windshield</th>\n",
              "      <th>cc_Heads-up display</th>\n",
              "      <th>cc_Heated steering wheel</th>\n",
              "      <th>cc_Hill Holder</th>\n",
              "      <th>cc_Keyless central door lock</th>\n",
              "      <th>cc_Leather seats</th>\n",
              "      <th>cc_Leather steering wheel</th>\n",
              "      <th>cc_Light sensor</th>\n",
              "      <th>cc_Lumbar support</th>\n",
              "      <th>cc_Massage seats</th>\n",
              "      <th>cc_Multi-function steering wheel</th>\n",
              "      <th>cc_Navigation system</th>\n",
              "      <th>cc_Panorama roof</th>\n",
              "      <th>cc_Park Distance Control</th>\n",
              "      <th>cc_Parking assist system camera</th>\n",
              "      <th>cc_Parking assist system self-steering</th>\n",
              "      <th>cc_Parking assist system sensors front</th>\n",
              "      <th>cc_Parking assist system sensors rear</th>\n",
              "      <th>cc_Power windows</th>\n",
              "      <th>cc_Rain sensor</th>\n",
              "      <th>cc_Seat heating</th>\n",
              "      <th>cc_Seat ventilation</th>\n",
              "      <th>cc_Split rear seats</th>\n",
              "      <th>cc_Start-stop system</th>\n",
              "      <th>cc_Sunroof</th>\n",
              "      <th>cc_Tinted windows</th>\n",
              "      <th>cc_Wind deflector</th>\n",
              "      <th>cc_Windshield</th>\n",
              "      <th>em_Bluetooth</th>\n",
              "      <th>em_CD player</th>\n",
              "      <th>...</th>\n",
              "      <th>ss_LED Headlights</th>\n",
              "      <th>ss_Lane departure warning system</th>\n",
              "      <th>ss_Night view assist</th>\n",
              "      <th>ss_Passenger-side airbag</th>\n",
              "      <th>ss_Power steering</th>\n",
              "      <th>ss_Rear airbag</th>\n",
              "      <th>ss_Side airbag</th>\n",
              "      <th>ss_Tire pressure monitoring system</th>\n",
              "      <th>ss_Traction control</th>\n",
              "      <th>ss_Traffic sign recognition</th>\n",
              "      <th>ss_Xenon headlights</th>\n",
              "      <th>make_model_Audi A1</th>\n",
              "      <th>make_model_Audi A2</th>\n",
              "      <th>make_model_Audi A3</th>\n",
              "      <th>make_model_Opel Astra</th>\n",
              "      <th>make_model_Opel Corsa</th>\n",
              "      <th>make_model_Opel Insignia</th>\n",
              "      <th>make_model_Renault Clio</th>\n",
              "      <th>make_model_Renault Duster</th>\n",
              "      <th>make_model_Renault Espace</th>\n",
              "      <th>body_type_Compact</th>\n",
              "      <th>body_type_Convertible</th>\n",
              "      <th>body_type_Coupe</th>\n",
              "      <th>body_type_Off-Road</th>\n",
              "      <th>body_type_Sedans</th>\n",
              "      <th>body_type_Station wagon</th>\n",
              "      <th>body_type_Transporter</th>\n",
              "      <th>body_type_Van</th>\n",
              "      <th>vat_Price negotiable</th>\n",
              "      <th>vat_VAT deductible</th>\n",
              "      <th>Type_Demonstration</th>\n",
              "      <th>Type_Employee's car</th>\n",
              "      <th>Type_New</th>\n",
              "      <th>Type_Pre-registered</th>\n",
              "      <th>Type_Used</th>\n",
              "      <th>Fuel_Benzine</th>\n",
              "      <th>Fuel_Diesel</th>\n",
              "      <th>Fuel_Electric</th>\n",
              "      <th>Fuel_LPG/CNG</th>\n",
              "      <th>Paint_Type_Metallic</th>\n",
              "      <th>Paint_Type_Perl effect</th>\n",
              "      <th>Paint_Type_Uni/basic</th>\n",
              "      <th>Upholstery_type_Cloth</th>\n",
              "      <th>Upholstery_type_Part/Full Leather</th>\n",
              "      <th>Gearing_Type_Automatic</th>\n",
              "      <th>Gearing_Type_Manual</th>\n",
              "      <th>Gearing_Type_Semi-automatic</th>\n",
              "      <th>Drive_chain_4WD</th>\n",
              "      <th>Drive_chain_front</th>\n",
              "      <th>Drive_chain_rear</th>\n",
              "    </tr>\n",
              "  </thead>\n",
              "  <tbody>\n",
              "    <tr>\n",
              "      <th>0</th>\n",
              "      <td>15770</td>\n",
              "      <td>56013.0</td>\n",
              "      <td>7.0</td>\n",
              "      <td>3.0</td>\n",
              "      <td>2.0</td>\n",
              "      <td>66.0</td>\n",
              "      <td>1</td>\n",
              "      <td>1422.0</td>\n",
              "      <td>1220.0</td>\n",
              "      <td>3.8</td>\n",
              "      <td>1</td>\n",
              "      <td>0</td>\n",
              "      <td>1</td>\n",
              "      <td>1</td>\n",
              "      <td>0</td>\n",
              "      <td>1</td>\n",
              "      <td>0</td>\n",
              "      <td>0</td>\n",
              "      <td>1</td>\n",
              "      <td>0</td>\n",
              "      <td>0</td>\n",
              "      <td>0</td>\n",
              "      <td>0</td>\n",
              "      <td>1</td>\n",
              "      <td>0</td>\n",
              "      <td>0</td>\n",
              "      <td>1</td>\n",
              "      <td>1</td>\n",
              "      <td>0</td>\n",
              "      <td>0</td>\n",
              "      <td>1</td>\n",
              "      <td>1</td>\n",
              "      <td>0</td>\n",
              "      <td>1</td>\n",
              "      <td>0</td>\n",
              "      <td>0</td>\n",
              "      <td>0</td>\n",
              "      <td>1</td>\n",
              "      <td>1</td>\n",
              "      <td>1</td>\n",
              "      <td>1</td>\n",
              "      <td>0</td>\n",
              "      <td>0</td>\n",
              "      <td>1</td>\n",
              "      <td>0</td>\n",
              "      <td>0</td>\n",
              "      <td>0</td>\n",
              "      <td>0</td>\n",
              "      <td>1</td>\n",
              "      <td>0</td>\n",
              "      <td>...</td>\n",
              "      <td>0</td>\n",
              "      <td>0</td>\n",
              "      <td>0</td>\n",
              "      <td>1</td>\n",
              "      <td>1</td>\n",
              "      <td>0</td>\n",
              "      <td>1</td>\n",
              "      <td>1</td>\n",
              "      <td>1</td>\n",
              "      <td>0</td>\n",
              "      <td>1</td>\n",
              "      <td>1</td>\n",
              "      <td>0</td>\n",
              "      <td>0</td>\n",
              "      <td>0</td>\n",
              "      <td>0</td>\n",
              "      <td>0</td>\n",
              "      <td>0</td>\n",
              "      <td>0</td>\n",
              "      <td>0</td>\n",
              "      <td>0</td>\n",
              "      <td>0</td>\n",
              "      <td>0</td>\n",
              "      <td>0</td>\n",
              "      <td>1</td>\n",
              "      <td>0</td>\n",
              "      <td>0</td>\n",
              "      <td>0</td>\n",
              "      <td>0</td>\n",
              "      <td>1</td>\n",
              "      <td>0</td>\n",
              "      <td>0</td>\n",
              "      <td>0</td>\n",
              "      <td>0</td>\n",
              "      <td>1</td>\n",
              "      <td>0</td>\n",
              "      <td>1</td>\n",
              "      <td>0</td>\n",
              "      <td>0</td>\n",
              "      <td>1</td>\n",
              "      <td>0</td>\n",
              "      <td>0</td>\n",
              "      <td>1</td>\n",
              "      <td>0</td>\n",
              "      <td>1</td>\n",
              "      <td>0</td>\n",
              "      <td>0</td>\n",
              "      <td>0</td>\n",
              "      <td>1</td>\n",
              "      <td>0</td>\n",
              "    </tr>\n",
              "    <tr>\n",
              "      <th>1</th>\n",
              "      <td>14500</td>\n",
              "      <td>80000.0</td>\n",
              "      <td>7.0</td>\n",
              "      <td>2.0</td>\n",
              "      <td>1.0</td>\n",
              "      <td>141.0</td>\n",
              "      <td>0</td>\n",
              "      <td>1798.0</td>\n",
              "      <td>1255.0</td>\n",
              "      <td>5.6</td>\n",
              "      <td>1</td>\n",
              "      <td>0</td>\n",
              "      <td>0</td>\n",
              "      <td>1</td>\n",
              "      <td>0</td>\n",
              "      <td>0</td>\n",
              "      <td>0</td>\n",
              "      <td>0</td>\n",
              "      <td>0</td>\n",
              "      <td>0</td>\n",
              "      <td>0</td>\n",
              "      <td>0</td>\n",
              "      <td>0</td>\n",
              "      <td>1</td>\n",
              "      <td>0</td>\n",
              "      <td>0</td>\n",
              "      <td>1</td>\n",
              "      <td>0</td>\n",
              "      <td>1</td>\n",
              "      <td>0</td>\n",
              "      <td>0</td>\n",
              "      <td>0</td>\n",
              "      <td>0</td>\n",
              "      <td>0</td>\n",
              "      <td>0</td>\n",
              "      <td>0</td>\n",
              "      <td>0</td>\n",
              "      <td>1</td>\n",
              "      <td>1</td>\n",
              "      <td>0</td>\n",
              "      <td>0</td>\n",
              "      <td>0</td>\n",
              "      <td>0</td>\n",
              "      <td>1</td>\n",
              "      <td>0</td>\n",
              "      <td>1</td>\n",
              "      <td>0</td>\n",
              "      <td>0</td>\n",
              "      <td>1</td>\n",
              "      <td>0</td>\n",
              "      <td>...</td>\n",
              "      <td>0</td>\n",
              "      <td>0</td>\n",
              "      <td>0</td>\n",
              "      <td>1</td>\n",
              "      <td>1</td>\n",
              "      <td>0</td>\n",
              "      <td>1</td>\n",
              "      <td>1</td>\n",
              "      <td>1</td>\n",
              "      <td>0</td>\n",
              "      <td>1</td>\n",
              "      <td>1</td>\n",
              "      <td>0</td>\n",
              "      <td>0</td>\n",
              "      <td>0</td>\n",
              "      <td>0</td>\n",
              "      <td>0</td>\n",
              "      <td>0</td>\n",
              "      <td>0</td>\n",
              "      <td>0</td>\n",
              "      <td>0</td>\n",
              "      <td>0</td>\n",
              "      <td>0</td>\n",
              "      <td>0</td>\n",
              "      <td>1</td>\n",
              "      <td>0</td>\n",
              "      <td>0</td>\n",
              "      <td>0</td>\n",
              "      <td>1</td>\n",
              "      <td>0</td>\n",
              "      <td>0</td>\n",
              "      <td>0</td>\n",
              "      <td>0</td>\n",
              "      <td>0</td>\n",
              "      <td>1</td>\n",
              "      <td>1</td>\n",
              "      <td>0</td>\n",
              "      <td>0</td>\n",
              "      <td>0</td>\n",
              "      <td>1</td>\n",
              "      <td>0</td>\n",
              "      <td>0</td>\n",
              "      <td>1</td>\n",
              "      <td>0</td>\n",
              "      <td>1</td>\n",
              "      <td>0</td>\n",
              "      <td>0</td>\n",
              "      <td>0</td>\n",
              "      <td>1</td>\n",
              "      <td>0</td>\n",
              "    </tr>\n",
              "    <tr>\n",
              "      <th>2</th>\n",
              "      <td>14640</td>\n",
              "      <td>83450.0</td>\n",
              "      <td>7.0</td>\n",
              "      <td>3.0</td>\n",
              "      <td>1.0</td>\n",
              "      <td>85.0</td>\n",
              "      <td>0</td>\n",
              "      <td>1598.0</td>\n",
              "      <td>1135.0</td>\n",
              "      <td>3.8</td>\n",
              "      <td>1</td>\n",
              "      <td>0</td>\n",
              "      <td>0</td>\n",
              "      <td>0</td>\n",
              "      <td>0</td>\n",
              "      <td>1</td>\n",
              "      <td>0</td>\n",
              "      <td>0</td>\n",
              "      <td>1</td>\n",
              "      <td>0</td>\n",
              "      <td>0</td>\n",
              "      <td>0</td>\n",
              "      <td>0</td>\n",
              "      <td>1</td>\n",
              "      <td>0</td>\n",
              "      <td>0</td>\n",
              "      <td>1</td>\n",
              "      <td>0</td>\n",
              "      <td>0</td>\n",
              "      <td>0</td>\n",
              "      <td>1</td>\n",
              "      <td>1</td>\n",
              "      <td>0</td>\n",
              "      <td>1</td>\n",
              "      <td>0</td>\n",
              "      <td>0</td>\n",
              "      <td>1</td>\n",
              "      <td>1</td>\n",
              "      <td>1</td>\n",
              "      <td>0</td>\n",
              "      <td>1</td>\n",
              "      <td>0</td>\n",
              "      <td>0</td>\n",
              "      <td>1</td>\n",
              "      <td>0</td>\n",
              "      <td>0</td>\n",
              "      <td>0</td>\n",
              "      <td>0</td>\n",
              "      <td>0</td>\n",
              "      <td>0</td>\n",
              "      <td>...</td>\n",
              "      <td>0</td>\n",
              "      <td>0</td>\n",
              "      <td>0</td>\n",
              "      <td>1</td>\n",
              "      <td>1</td>\n",
              "      <td>0</td>\n",
              "      <td>1</td>\n",
              "      <td>1</td>\n",
              "      <td>1</td>\n",
              "      <td>0</td>\n",
              "      <td>0</td>\n",
              "      <td>1</td>\n",
              "      <td>0</td>\n",
              "      <td>0</td>\n",
              "      <td>0</td>\n",
              "      <td>0</td>\n",
              "      <td>0</td>\n",
              "      <td>0</td>\n",
              "      <td>0</td>\n",
              "      <td>0</td>\n",
              "      <td>0</td>\n",
              "      <td>0</td>\n",
              "      <td>0</td>\n",
              "      <td>0</td>\n",
              "      <td>1</td>\n",
              "      <td>0</td>\n",
              "      <td>0</td>\n",
              "      <td>0</td>\n",
              "      <td>0</td>\n",
              "      <td>1</td>\n",
              "      <td>0</td>\n",
              "      <td>0</td>\n",
              "      <td>0</td>\n",
              "      <td>0</td>\n",
              "      <td>1</td>\n",
              "      <td>0</td>\n",
              "      <td>1</td>\n",
              "      <td>0</td>\n",
              "      <td>0</td>\n",
              "      <td>1</td>\n",
              "      <td>0</td>\n",
              "      <td>0</td>\n",
              "      <td>1</td>\n",
              "      <td>0</td>\n",
              "      <td>1</td>\n",
              "      <td>0</td>\n",
              "      <td>0</td>\n",
              "      <td>0</td>\n",
              "      <td>1</td>\n",
              "      <td>0</td>\n",
              "    </tr>\n",
              "    <tr>\n",
              "      <th>3</th>\n",
              "      <td>14500</td>\n",
              "      <td>73000.0</td>\n",
              "      <td>6.0</td>\n",
              "      <td>3.0</td>\n",
              "      <td>1.0</td>\n",
              "      <td>66.0</td>\n",
              "      <td>0</td>\n",
              "      <td>1422.0</td>\n",
              "      <td>1195.0</td>\n",
              "      <td>3.8</td>\n",
              "      <td>0</td>\n",
              "      <td>1</td>\n",
              "      <td>1</td>\n",
              "      <td>0</td>\n",
              "      <td>1</td>\n",
              "      <td>0</td>\n",
              "      <td>0</td>\n",
              "      <td>0</td>\n",
              "      <td>1</td>\n",
              "      <td>0</td>\n",
              "      <td>0</td>\n",
              "      <td>1</td>\n",
              "      <td>0</td>\n",
              "      <td>1</td>\n",
              "      <td>0</td>\n",
              "      <td>0</td>\n",
              "      <td>1</td>\n",
              "      <td>1</td>\n",
              "      <td>1</td>\n",
              "      <td>0</td>\n",
              "      <td>1</td>\n",
              "      <td>1</td>\n",
              "      <td>0</td>\n",
              "      <td>0</td>\n",
              "      <td>0</td>\n",
              "      <td>0</td>\n",
              "      <td>0</td>\n",
              "      <td>0</td>\n",
              "      <td>1</td>\n",
              "      <td>1</td>\n",
              "      <td>1</td>\n",
              "      <td>0</td>\n",
              "      <td>1</td>\n",
              "      <td>1</td>\n",
              "      <td>0</td>\n",
              "      <td>0</td>\n",
              "      <td>0</td>\n",
              "      <td>0</td>\n",
              "      <td>1</td>\n",
              "      <td>1</td>\n",
              "      <td>...</td>\n",
              "      <td>0</td>\n",
              "      <td>0</td>\n",
              "      <td>0</td>\n",
              "      <td>1</td>\n",
              "      <td>1</td>\n",
              "      <td>0</td>\n",
              "      <td>1</td>\n",
              "      <td>1</td>\n",
              "      <td>0</td>\n",
              "      <td>0</td>\n",
              "      <td>0</td>\n",
              "      <td>1</td>\n",
              "      <td>0</td>\n",
              "      <td>0</td>\n",
              "      <td>0</td>\n",
              "      <td>0</td>\n",
              "      <td>0</td>\n",
              "      <td>0</td>\n",
              "      <td>0</td>\n",
              "      <td>0</td>\n",
              "      <td>0</td>\n",
              "      <td>0</td>\n",
              "      <td>0</td>\n",
              "      <td>0</td>\n",
              "      <td>1</td>\n",
              "      <td>0</td>\n",
              "      <td>0</td>\n",
              "      <td>0</td>\n",
              "      <td>0</td>\n",
              "      <td>1</td>\n",
              "      <td>0</td>\n",
              "      <td>0</td>\n",
              "      <td>0</td>\n",
              "      <td>0</td>\n",
              "      <td>1</td>\n",
              "      <td>0</td>\n",
              "      <td>1</td>\n",
              "      <td>0</td>\n",
              "      <td>0</td>\n",
              "      <td>1</td>\n",
              "      <td>0</td>\n",
              "      <td>0</td>\n",
              "      <td>1</td>\n",
              "      <td>0</td>\n",
              "      <td>1</td>\n",
              "      <td>0</td>\n",
              "      <td>0</td>\n",
              "      <td>0</td>\n",
              "      <td>1</td>\n",
              "      <td>0</td>\n",
              "    </tr>\n",
              "    <tr>\n",
              "      <th>4</th>\n",
              "      <td>16790</td>\n",
              "      <td>16200.0</td>\n",
              "      <td>7.0</td>\n",
              "      <td>3.0</td>\n",
              "      <td>1.0</td>\n",
              "      <td>66.0</td>\n",
              "      <td>1</td>\n",
              "      <td>1422.0</td>\n",
              "      <td>1135.0</td>\n",
              "      <td>4.1</td>\n",
              "      <td>1</td>\n",
              "      <td>0</td>\n",
              "      <td>1</td>\n",
              "      <td>1</td>\n",
              "      <td>0</td>\n",
              "      <td>0</td>\n",
              "      <td>0</td>\n",
              "      <td>0</td>\n",
              "      <td>1</td>\n",
              "      <td>0</td>\n",
              "      <td>0</td>\n",
              "      <td>0</td>\n",
              "      <td>0</td>\n",
              "      <td>1</td>\n",
              "      <td>0</td>\n",
              "      <td>0</td>\n",
              "      <td>1</td>\n",
              "      <td>1</td>\n",
              "      <td>0</td>\n",
              "      <td>0</td>\n",
              "      <td>1</td>\n",
              "      <td>0</td>\n",
              "      <td>0</td>\n",
              "      <td>1</td>\n",
              "      <td>0</td>\n",
              "      <td>0</td>\n",
              "      <td>0</td>\n",
              "      <td>1</td>\n",
              "      <td>1</td>\n",
              "      <td>1</td>\n",
              "      <td>0</td>\n",
              "      <td>0</td>\n",
              "      <td>0</td>\n",
              "      <td>1</td>\n",
              "      <td>0</td>\n",
              "      <td>0</td>\n",
              "      <td>0</td>\n",
              "      <td>0</td>\n",
              "      <td>1</td>\n",
              "      <td>1</td>\n",
              "      <td>...</td>\n",
              "      <td>0</td>\n",
              "      <td>0</td>\n",
              "      <td>0</td>\n",
              "      <td>1</td>\n",
              "      <td>1</td>\n",
              "      <td>0</td>\n",
              "      <td>1</td>\n",
              "      <td>1</td>\n",
              "      <td>1</td>\n",
              "      <td>0</td>\n",
              "      <td>1</td>\n",
              "      <td>1</td>\n",
              "      <td>0</td>\n",
              "      <td>0</td>\n",
              "      <td>0</td>\n",
              "      <td>0</td>\n",
              "      <td>0</td>\n",
              "      <td>0</td>\n",
              "      <td>0</td>\n",
              "      <td>0</td>\n",
              "      <td>0</td>\n",
              "      <td>0</td>\n",
              "      <td>0</td>\n",
              "      <td>0</td>\n",
              "      <td>1</td>\n",
              "      <td>0</td>\n",
              "      <td>0</td>\n",
              "      <td>0</td>\n",
              "      <td>0</td>\n",
              "      <td>1</td>\n",
              "      <td>0</td>\n",
              "      <td>0</td>\n",
              "      <td>0</td>\n",
              "      <td>0</td>\n",
              "      <td>1</td>\n",
              "      <td>0</td>\n",
              "      <td>1</td>\n",
              "      <td>0</td>\n",
              "      <td>0</td>\n",
              "      <td>1</td>\n",
              "      <td>0</td>\n",
              "      <td>0</td>\n",
              "      <td>1</td>\n",
              "      <td>0</td>\n",
              "      <td>1</td>\n",
              "      <td>0</td>\n",
              "      <td>0</td>\n",
              "      <td>0</td>\n",
              "      <td>1</td>\n",
              "      <td>0</td>\n",
              "    </tr>\n",
              "  </tbody>\n",
              "</table>\n",
              "<p>5 rows × 143 columns</p>\n",
              "</div>"
            ],
            "text/plain": [
              "   price       km  Gears  age  Previous_Owners  hp_kW  Inspection_new  \\\n",
              "0  15770  56013.0    7.0  3.0              2.0   66.0               1   \n",
              "1  14500  80000.0    7.0  2.0              1.0  141.0               0   \n",
              "2  14640  83450.0    7.0  3.0              1.0   85.0               0   \n",
              "3  14500  73000.0    6.0  3.0              1.0   66.0               0   \n",
              "4  16790  16200.0    7.0  3.0              1.0   66.0               1   \n",
              "\n",
              "   Displacement_cc  Weight_kg  cons_comb  cc_Air conditioning  \\\n",
              "0           1422.0     1220.0        3.8                    1   \n",
              "1           1798.0     1255.0        5.6                    1   \n",
              "2           1598.0     1135.0        3.8                    1   \n",
              "3           1422.0     1195.0        3.8                    0   \n",
              "4           1422.0     1135.0        4.1                    1   \n",
              "\n",
              "   cc_Air suspension  cc_Armrest  cc_Automatic climate control  \\\n",
              "0                  0           1                             1   \n",
              "1                  0           0                             1   \n",
              "2                  0           0                             0   \n",
              "3                  1           1                             0   \n",
              "4                  0           1                             1   \n",
              "\n",
              "   cc_Auxiliary heating  cc_Cruise control  cc_Electric Starter  \\\n",
              "0                     0                  1                    0   \n",
              "1                     0                  0                    0   \n",
              "2                     0                  1                    0   \n",
              "3                     1                  0                    0   \n",
              "4                     0                  0                    0   \n",
              "\n",
              "   cc_Electric tailgate  cc_Electrical side mirrors  \\\n",
              "0                     0                           1   \n",
              "1                     0                           0   \n",
              "2                     0                           1   \n",
              "3                     0                           1   \n",
              "4                     0                           1   \n",
              "\n",
              "   cc_Electrically adjustable seats  cc_Electrically heated windshield  \\\n",
              "0                                 0                                  0   \n",
              "1                                 0                                  0   \n",
              "2                                 0                                  0   \n",
              "3                                 0                                  0   \n",
              "4                                 0                                  0   \n",
              "\n",
              "   cc_Heads-up display  cc_Heated steering wheel  cc_Hill Holder  \\\n",
              "0                    0                         0               1   \n",
              "1                    0                         0               1   \n",
              "2                    0                         0               1   \n",
              "3                    1                         0               1   \n",
              "4                    0                         0               1   \n",
              "\n",
              "   cc_Keyless central door lock  cc_Leather seats  cc_Leather steering wheel  \\\n",
              "0                             0                 0                          1   \n",
              "1                             0                 0                          1   \n",
              "2                             0                 0                          1   \n",
              "3                             0                 0                          1   \n",
              "4                             0                 0                          1   \n",
              "\n",
              "   cc_Light sensor  cc_Lumbar support  cc_Massage seats  \\\n",
              "0                1                  0                 0   \n",
              "1                0                  1                 0   \n",
              "2                0                  0                 0   \n",
              "3                1                  1                 0   \n",
              "4                1                  0                 0   \n",
              "\n",
              "   cc_Multi-function steering wheel  cc_Navigation system  cc_Panorama roof  \\\n",
              "0                                 1                     1                 0   \n",
              "1                                 0                     0                 0   \n",
              "2                                 1                     1                 0   \n",
              "3                                 1                     1                 0   \n",
              "4                                 1                     0                 0   \n",
              "\n",
              "   cc_Park Distance Control  cc_Parking assist system camera  \\\n",
              "0                         1                                0   \n",
              "1                         0                                0   \n",
              "2                         1                                0   \n",
              "3                         0                                0   \n",
              "4                         1                                0   \n",
              "\n",
              "   cc_Parking assist system self-steering  \\\n",
              "0                                       0   \n",
              "1                                       0   \n",
              "2                                       0   \n",
              "3                                       0   \n",
              "4                                       0   \n",
              "\n",
              "   cc_Parking assist system sensors front  \\\n",
              "0                                       0   \n",
              "1                                       0   \n",
              "2                                       1   \n",
              "3                                       0   \n",
              "4                                       0   \n",
              "\n",
              "   cc_Parking assist system sensors rear  cc_Power windows  cc_Rain sensor  \\\n",
              "0                                      1                 1               1   \n",
              "1                                      1                 1               0   \n",
              "2                                      1                 1               0   \n",
              "3                                      0                 1               1   \n",
              "4                                      1                 1               1   \n",
              "\n",
              "   cc_Seat heating  cc_Seat ventilation  cc_Split rear seats  \\\n",
              "0                1                    0                    0   \n",
              "1                0                    0                    0   \n",
              "2                1                    0                    0   \n",
              "3                1                    0                    1   \n",
              "4                0                    0                    0   \n",
              "\n",
              "   cc_Start-stop system  cc_Sunroof  cc_Tinted windows  cc_Wind deflector  \\\n",
              "0                     1           0                  0                  0   \n",
              "1                     1           0                  1                  0   \n",
              "2                     1           0                  0                  0   \n",
              "3                     1           0                  0                  0   \n",
              "4                     1           0                  0                  0   \n",
              "\n",
              "   cc_Windshield  em_Bluetooth  em_CD player  ...  ss_LED Headlights  \\\n",
              "0              0             1             0  ...                  0   \n",
              "1              0             1             0  ...                  0   \n",
              "2              0             0             0  ...                  0   \n",
              "3              0             1             1  ...                  0   \n",
              "4              0             1             1  ...                  0   \n",
              "\n",
              "   ss_Lane departure warning system  ss_Night view assist  \\\n",
              "0                                 0                     0   \n",
              "1                                 0                     0   \n",
              "2                                 0                     0   \n",
              "3                                 0                     0   \n",
              "4                                 0                     0   \n",
              "\n",
              "   ss_Passenger-side airbag  ss_Power steering  ss_Rear airbag  \\\n",
              "0                         1                  1               0   \n",
              "1                         1                  1               0   \n",
              "2                         1                  1               0   \n",
              "3                         1                  1               0   \n",
              "4                         1                  1               0   \n",
              "\n",
              "   ss_Side airbag  ss_Tire pressure monitoring system  ss_Traction control  \\\n",
              "0               1                                   1                    1   \n",
              "1               1                                   1                    1   \n",
              "2               1                                   1                    1   \n",
              "3               1                                   1                    0   \n",
              "4               1                                   1                    1   \n",
              "\n",
              "   ss_Traffic sign recognition  ss_Xenon headlights  make_model_Audi A1  \\\n",
              "0                            0                    1                   1   \n",
              "1                            0                    1                   1   \n",
              "2                            0                    0                   1   \n",
              "3                            0                    0                   1   \n",
              "4                            0                    1                   1   \n",
              "\n",
              "   make_model_Audi A2  make_model_Audi A3  make_model_Opel Astra  \\\n",
              "0                   0                   0                      0   \n",
              "1                   0                   0                      0   \n",
              "2                   0                   0                      0   \n",
              "3                   0                   0                      0   \n",
              "4                   0                   0                      0   \n",
              "\n",
              "   make_model_Opel Corsa  make_model_Opel Insignia  make_model_Renault Clio  \\\n",
              "0                      0                         0                        0   \n",
              "1                      0                         0                        0   \n",
              "2                      0                         0                        0   \n",
              "3                      0                         0                        0   \n",
              "4                      0                         0                        0   \n",
              "\n",
              "   make_model_Renault Duster  make_model_Renault Espace  body_type_Compact  \\\n",
              "0                          0                          0                  0   \n",
              "1                          0                          0                  0   \n",
              "2                          0                          0                  0   \n",
              "3                          0                          0                  0   \n",
              "4                          0                          0                  0   \n",
              "\n",
              "   body_type_Convertible  body_type_Coupe  body_type_Off-Road  \\\n",
              "0                      0                0                   0   \n",
              "1                      0                0                   0   \n",
              "2                      0                0                   0   \n",
              "3                      0                0                   0   \n",
              "4                      0                0                   0   \n",
              "\n",
              "   body_type_Sedans  body_type_Station wagon  body_type_Transporter  \\\n",
              "0                 1                        0                      0   \n",
              "1                 1                        0                      0   \n",
              "2                 1                        0                      0   \n",
              "3                 1                        0                      0   \n",
              "4                 1                        0                      0   \n",
              "\n",
              "   body_type_Van  vat_Price negotiable  vat_VAT deductible  \\\n",
              "0              0                     0                   1   \n",
              "1              0                     1                   0   \n",
              "2              0                     0                   1   \n",
              "3              0                     0                   1   \n",
              "4              0                     0                   1   \n",
              "\n",
              "   Type_Demonstration  Type_Employee's car  Type_New  Type_Pre-registered  \\\n",
              "0                   0                    0         0                    0   \n",
              "1                   0                    0         0                    0   \n",
              "2                   0                    0         0                    0   \n",
              "3                   0                    0         0                    0   \n",
              "4                   0                    0         0                    0   \n",
              "\n",
              "   Type_Used  Fuel_Benzine  Fuel_Diesel  Fuel_Electric  Fuel_LPG/CNG  \\\n",
              "0          1             0            1              0             0   \n",
              "1          1             1            0              0             0   \n",
              "2          1             0            1              0             0   \n",
              "3          1             0            1              0             0   \n",
              "4          1             0            1              0             0   \n",
              "\n",
              "   Paint_Type_Metallic  Paint_Type_Perl effect  Paint_Type_Uni/basic  \\\n",
              "0                    1                       0                     0   \n",
              "1                    1                       0                     0   \n",
              "2                    1                       0                     0   \n",
              "3                    1                       0                     0   \n",
              "4                    1                       0                     0   \n",
              "\n",
              "   Upholstery_type_Cloth  Upholstery_type_Part/Full Leather  \\\n",
              "0                      1                                  0   \n",
              "1                      1                                  0   \n",
              "2                      1                                  0   \n",
              "3                      1                                  0   \n",
              "4                      1                                  0   \n",
              "\n",
              "   Gearing_Type_Automatic  Gearing_Type_Manual  Gearing_Type_Semi-automatic  \\\n",
              "0                       1                    0                            0   \n",
              "1                       1                    0                            0   \n",
              "2                       1                    0                            0   \n",
              "3                       1                    0                            0   \n",
              "4                       1                    0                            0   \n",
              "\n",
              "   Drive_chain_4WD  Drive_chain_front  Drive_chain_rear  \n",
              "0                0                  1                 0  \n",
              "1                0                  1                 0  \n",
              "2                0                  1                 0  \n",
              "3                0                  1                 0  \n",
              "4                0                  1                 0  \n",
              "\n",
              "[5 rows x 143 columns]"
            ]
          },
          "execution_count": 7,
          "metadata": {},
          "output_type": "execute_result"
        }
      ],
      "source": [
        "df.head()"
      ]
    },
    {
      "cell_type": "markdown",
      "metadata": {
        "id": "12PKntblbV9C"
      },
      "source": [
        "# Feature Engineering"
      ]
    },
    {
      "cell_type": "markdown",
      "metadata": {
        "id": "P49wP0afbV9E"
      },
      "source": [
        "<ul>Fuel_Type feature:\n",
        "    <li>Fuel is Petrol if Fuel_type_diesel = 0 ,Fuel_Type_Petrol = 1</li>\n",
        "    <li>Fuel is Diesel if Fuel_type_diesel = 1 ,Fuel_Type_Petrol = 0</li>\n",
        "    <li>Fuel is cng if Fuel_type_diesel = 0 ,Fuel_Type_Petrol = 0</li>\n",
        "   </ul>\n",
        "<ul>Transmission feature:\n",
        "    <li>transmission is manual if Transmission_Manual = 1</li> \n",
        "    <li>transmission is automatic if Transmission_Manual = 0</li></ul>\n",
        "<ul>Seller_Type feature:\n",
        "    <li>Seller_Type is Individual if Seller_Type_Individual = 1 </li> \n",
        "    <li>Seller_Type is dealer if Seller_Type_Individual = 0</li> </ul>\n",
        "    \n"
      ]
    },
    {
      "cell_type": "markdown",
      "metadata": {
        "id": "Pe9yr6oCbV9I"
      },
      "source": [
        "### Features and target variable"
      ]
    },
    {
      "cell_type": "code",
      "execution_count": 9,
      "metadata": {
        "id": "28iwK9weYW43"
      },
      "outputs": [],
      "source": [
        "X = df.drop(\"price\", axis =1)\n",
        "y = df[\"price\"]"
      ]
    },
    {
      "cell_type": "code",
      "execution_count": null,
      "metadata": {
        "id": "OMnKPR41bV9K"
      },
      "outputs": [],
      "source": []
    },
    {
      "cell_type": "markdown",
      "metadata": {
        "id": "IxhZbAYsbV9L"
      },
      "source": [
        "### Splitting data into training and testing"
      ]
    },
    {
      "cell_type": "code",
      "execution_count": 10,
      "metadata": {
        "id": "82YlrjN8ZMz-"
      },
      "outputs": [],
      "source": [
        "from sklearn.model_selection import train_test_split"
      ]
    },
    {
      "cell_type": "code",
      "execution_count": 11,
      "metadata": {
        "id": "aS1EZ-6bbV9N"
      },
      "outputs": [],
      "source": [
        "X_train, X_test, y_train, y_test = train_test_split(X, y, test_size=0.3, random_state=101)"
      ]
    },
    {
      "cell_type": "code",
      "execution_count": null,
      "metadata": {
        "id": "d2GWWRijyhr4"
      },
      "outputs": [],
      "source": []
    },
    {
      "cell_type": "markdown",
      "metadata": {
        "id": "G-KClz270b_T"
      },
      "source": [
        "##Scaling the Data\n"
      ]
    },
    {
      "cell_type": "markdown",
      "metadata": {
        "id": "F6ONEjwi0it2"
      },
      "source": [
        "scaling : Fitting our data to the same ranges.\n",
        "Whether a feature is important or not in ML is expressed with coefficients. The ranges of my features can have different range values for each. If we don't do a scale, features in a large range are weighted more (valid for distance-based models) and our model will return incorrect results. We use scale to prevent this. It also accelerates the work of Gradient descent-based models such as linear, logistic regression.\n",
        "\n",
        "There is no disadvantage of applying scale to data. data scale If you are confused about whether to apply it or not, you can apply scale directly.\n",
        "\n",
        "Data leakage: Leakage of information about the data in the test set to the data in the train set\n",
        "To prevent leakage, only fit operation is applied to X_train. On the other hand, only transform operation is applied to X_test. no fit operation is applied to all data.\n",
        "\n",
        "Target is never scaled."
      ]
    },
    {
      "cell_type": "markdown",
      "metadata": {
        "id": "tgpL81bC0yjG"
      },
      "source": [
        "##with standard scaler"
      ]
    },
    {
      "cell_type": "code",
      "execution_count": 12,
      "metadata": {
        "id": "-RlL6FOf0boD"
      },
      "outputs": [],
      "source": [
        "from sklearn.preprocessing import StandardScaler, MinMaxScaler, RobustScaler\n",
        "\n",
        "scaler =  StandardScaler()"
      ]
    },
    {
      "cell_type": "code",
      "execution_count": 13,
      "metadata": {
        "colab": {
          "base_uri": "https://localhost:8080/"
        },
        "id": "v5HDX5cx0uc8",
        "outputId": "4b6e2579-bdfa-4264-bd8c-19ee86f2c9be"
      },
      "outputs": [
        {
          "data": {
            "text/plain": [
              "array([[ 1.33838567, -1.32568735,  1.4367795 , ..., -0.1148382 ,\n",
              "         0.11643258, -0.01895245],\n",
              "       [-0.86471793, -1.32568735, -1.24110633, ..., -0.1148382 ,\n",
              "         0.11643258, -0.01895245],\n",
              "       [-0.36974418,  2.92373442, -0.34847772, ..., -0.1148382 ,\n",
              "         0.11643258, -0.01895245],\n",
              "       ...,\n",
              "       [-0.40543161, -1.32568735,  0.54415089, ..., -0.1148382 ,\n",
              "         0.11643258, -0.01895245],\n",
              "       [-0.69201243, -1.32568735, -0.34847772, ..., -0.1148382 ,\n",
              "         0.11643258, -0.01895245],\n",
              "       [-0.1600265 ,  0.09078657, -0.34847772, ..., -0.1148382 ,\n",
              "         0.11643258, -0.01895245]])"
            ]
          },
          "execution_count": 13,
          "metadata": {},
          "output_type": "execute_result"
        }
      ],
      "source": [
        "X_train_scaled = scaler.fit_transform(X_train)\n",
        "X_train_scaled"
      ]
    },
    {
      "cell_type": "code",
      "execution_count": 14,
      "metadata": {
        "colab": {
          "base_uri": "https://localhost:8080/"
        },
        "id": "-Z1E7SHq0xQF",
        "outputId": "53712e91-e701-4c0d-80c5-6bc3c7c23d27"
      },
      "outputs": [
        {
          "data": {
            "text/plain": [
              "array([[-0.82050439, -1.32568735, -1.24110633, ..., -0.1148382 ,\n",
              "         0.11643258, -0.01895245],\n",
              "       [-0.864772  , -1.32568735, -1.24110633, ..., -0.1148382 ,\n",
              "         0.11643258, -0.01895245],\n",
              "       [ 3.70402926,  0.09078657,  1.4367795 , ..., -0.1148382 ,\n",
              "         0.11643258, -0.01895245],\n",
              "       ...,\n",
              "       [-0.82050439,  0.09078657, -1.24110633, ..., -0.1148382 ,\n",
              "         0.11643258, -0.01895245],\n",
              "       [-0.28709535,  0.09078657, -0.34847772, ..., -0.1148382 ,\n",
              "         0.11643258, -0.01895245],\n",
              "       [-0.56764717, -1.32568735, -0.34847772, ..., -0.1148382 ,\n",
              "         0.11643258, -0.01895245]])"
            ]
          },
          "execution_count": 14,
          "metadata": {},
          "output_type": "execute_result"
        }
      ],
      "source": [
        "X_test_scaled = scaler.transform(X_test)\n",
        "X_test_scaled"
      ]
    },
    {
      "cell_type": "markdown",
      "metadata": {
        "id": "LWIqSOaj02oz"
      },
      "source": [
        "checking std = 1 and mean = 0\n",
        "this gives us the z-scores. so it's also called z-score\n",
        "\n",
        "These values show where in the normal distribution they correspond to the z score."
      ]
    },
    {
      "cell_type": "code",
      "execution_count": 15,
      "metadata": {
        "colab": {
          "base_uri": "https://localhost:8080/",
          "height": 206
        },
        "id": "aTrtXTkT0xKF",
        "outputId": "072b8229-68bc-4859-9979-de4e649435ed"
      },
      "outputs": [
        {
          "data": {
            "text/html": [
              "<div>\n",
              "<style scoped>\n",
              "    .dataframe tbody tr th:only-of-type {\n",
              "        vertical-align: middle;\n",
              "    }\n",
              "\n",
              "    .dataframe tbody tr th {\n",
              "        vertical-align: top;\n",
              "    }\n",
              "\n",
              "    .dataframe thead th {\n",
              "        text-align: right;\n",
              "    }\n",
              "</style>\n",
              "<table border=\"1\" class=\"dataframe\">\n",
              "  <thead>\n",
              "    <tr style=\"text-align: right;\">\n",
              "      <th></th>\n",
              "      <th>0</th>\n",
              "      <th>1</th>\n",
              "      <th>2</th>\n",
              "      <th>3</th>\n",
              "      <th>4</th>\n",
              "      <th>5</th>\n",
              "      <th>6</th>\n",
              "      <th>7</th>\n",
              "      <th>8</th>\n",
              "      <th>9</th>\n",
              "      <th>10</th>\n",
              "      <th>11</th>\n",
              "      <th>12</th>\n",
              "      <th>13</th>\n",
              "      <th>14</th>\n",
              "      <th>15</th>\n",
              "      <th>16</th>\n",
              "      <th>17</th>\n",
              "      <th>18</th>\n",
              "      <th>19</th>\n",
              "      <th>20</th>\n",
              "      <th>21</th>\n",
              "      <th>22</th>\n",
              "      <th>23</th>\n",
              "      <th>24</th>\n",
              "      <th>25</th>\n",
              "      <th>26</th>\n",
              "      <th>27</th>\n",
              "      <th>28</th>\n",
              "      <th>29</th>\n",
              "      <th>30</th>\n",
              "      <th>31</th>\n",
              "      <th>32</th>\n",
              "      <th>33</th>\n",
              "      <th>34</th>\n",
              "      <th>35</th>\n",
              "      <th>36</th>\n",
              "      <th>37</th>\n",
              "      <th>38</th>\n",
              "      <th>39</th>\n",
              "      <th>40</th>\n",
              "      <th>41</th>\n",
              "      <th>42</th>\n",
              "      <th>43</th>\n",
              "      <th>44</th>\n",
              "      <th>45</th>\n",
              "      <th>46</th>\n",
              "      <th>47</th>\n",
              "      <th>48</th>\n",
              "      <th>49</th>\n",
              "      <th>...</th>\n",
              "      <th>92</th>\n",
              "      <th>93</th>\n",
              "      <th>94</th>\n",
              "      <th>95</th>\n",
              "      <th>96</th>\n",
              "      <th>97</th>\n",
              "      <th>98</th>\n",
              "      <th>99</th>\n",
              "      <th>100</th>\n",
              "      <th>101</th>\n",
              "      <th>102</th>\n",
              "      <th>103</th>\n",
              "      <th>104</th>\n",
              "      <th>105</th>\n",
              "      <th>106</th>\n",
              "      <th>107</th>\n",
              "      <th>108</th>\n",
              "      <th>109</th>\n",
              "      <th>110</th>\n",
              "      <th>111</th>\n",
              "      <th>112</th>\n",
              "      <th>113</th>\n",
              "      <th>114</th>\n",
              "      <th>115</th>\n",
              "      <th>116</th>\n",
              "      <th>117</th>\n",
              "      <th>118</th>\n",
              "      <th>119</th>\n",
              "      <th>120</th>\n",
              "      <th>121</th>\n",
              "      <th>122</th>\n",
              "      <th>123</th>\n",
              "      <th>124</th>\n",
              "      <th>125</th>\n",
              "      <th>126</th>\n",
              "      <th>127</th>\n",
              "      <th>128</th>\n",
              "      <th>129</th>\n",
              "      <th>130</th>\n",
              "      <th>131</th>\n",
              "      <th>132</th>\n",
              "      <th>133</th>\n",
              "      <th>134</th>\n",
              "      <th>135</th>\n",
              "      <th>136</th>\n",
              "      <th>137</th>\n",
              "      <th>138</th>\n",
              "      <th>139</th>\n",
              "      <th>140</th>\n",
              "      <th>141</th>\n",
              "    </tr>\n",
              "  </thead>\n",
              "  <tbody>\n",
              "    <tr>\n",
              "      <th>mean</th>\n",
              "      <td>-0.0</td>\n",
              "      <td>-0.0</td>\n",
              "      <td>-0.0</td>\n",
              "      <td>0.0</td>\n",
              "      <td>-0.0</td>\n",
              "      <td>0.0</td>\n",
              "      <td>0.0</td>\n",
              "      <td>-0.0</td>\n",
              "      <td>-0.0</td>\n",
              "      <td>-0.0</td>\n",
              "      <td>-0.0</td>\n",
              "      <td>-0.0</td>\n",
              "      <td>0.0</td>\n",
              "      <td>0.0</td>\n",
              "      <td>0.0</td>\n",
              "      <td>0.0</td>\n",
              "      <td>-0.0</td>\n",
              "      <td>-0.0</td>\n",
              "      <td>0.0</td>\n",
              "      <td>0.0</td>\n",
              "      <td>0.0</td>\n",
              "      <td>-0.0</td>\n",
              "      <td>0.0</td>\n",
              "      <td>-0.0</td>\n",
              "      <td>0.0</td>\n",
              "      <td>0.0</td>\n",
              "      <td>0.0</td>\n",
              "      <td>0.0</td>\n",
              "      <td>0.0</td>\n",
              "      <td>0.0</td>\n",
              "      <td>0.0</td>\n",
              "      <td>-0.0</td>\n",
              "      <td>-0.0</td>\n",
              "      <td>0.0</td>\n",
              "      <td>0.0</td>\n",
              "      <td>0.0</td>\n",
              "      <td>-0.0</td>\n",
              "      <td>-0.0</td>\n",
              "      <td>0.0</td>\n",
              "      <td>0.0</td>\n",
              "      <td>0.0</td>\n",
              "      <td>-0.0</td>\n",
              "      <td>0.0</td>\n",
              "      <td>-0.0</td>\n",
              "      <td>0.0</td>\n",
              "      <td>-0.0</td>\n",
              "      <td>-0.0</td>\n",
              "      <td>-0.0</td>\n",
              "      <td>0.0</td>\n",
              "      <td>0.0</td>\n",
              "      <td>...</td>\n",
              "      <td>-0.0</td>\n",
              "      <td>-0.0</td>\n",
              "      <td>-0.0</td>\n",
              "      <td>-0.0</td>\n",
              "      <td>-0.0</td>\n",
              "      <td>0.0</td>\n",
              "      <td>-0.0</td>\n",
              "      <td>-0.0</td>\n",
              "      <td>-0.0</td>\n",
              "      <td>-0.0</td>\n",
              "      <td>-0.0</td>\n",
              "      <td>-0.0</td>\n",
              "      <td>-0.0</td>\n",
              "      <td>-0.0</td>\n",
              "      <td>0.0</td>\n",
              "      <td>-0.0</td>\n",
              "      <td>0.0</td>\n",
              "      <td>-0.0</td>\n",
              "      <td>-0.0</td>\n",
              "      <td>-0.0</td>\n",
              "      <td>-0.0</td>\n",
              "      <td>0.0</td>\n",
              "      <td>-0.0</td>\n",
              "      <td>-0.0</td>\n",
              "      <td>0.0</td>\n",
              "      <td>0.0</td>\n",
              "      <td>-0.0</td>\n",
              "      <td>0.0</td>\n",
              "      <td>0.0</td>\n",
              "      <td>0.0</td>\n",
              "      <td>0.0</td>\n",
              "      <td>0.0</td>\n",
              "      <td>0.0</td>\n",
              "      <td>0.0</td>\n",
              "      <td>-0.0</td>\n",
              "      <td>-0.0</td>\n",
              "      <td>-0.0</td>\n",
              "      <td>-0.0</td>\n",
              "      <td>-0.0</td>\n",
              "      <td>-0.0</td>\n",
              "      <td>0.0</td>\n",
              "      <td>0.0</td>\n",
              "      <td>-0.0</td>\n",
              "      <td>0.0</td>\n",
              "      <td>0.0</td>\n",
              "      <td>-0.0</td>\n",
              "      <td>0.0</td>\n",
              "      <td>-0.0</td>\n",
              "      <td>0.0</td>\n",
              "      <td>-0.0</td>\n",
              "    </tr>\n",
              "    <tr>\n",
              "      <th>std</th>\n",
              "      <td>1.0</td>\n",
              "      <td>1.0</td>\n",
              "      <td>1.0</td>\n",
              "      <td>1.0</td>\n",
              "      <td>1.0</td>\n",
              "      <td>1.0</td>\n",
              "      <td>1.0</td>\n",
              "      <td>1.0</td>\n",
              "      <td>1.0</td>\n",
              "      <td>1.0</td>\n",
              "      <td>1.0</td>\n",
              "      <td>1.0</td>\n",
              "      <td>1.0</td>\n",
              "      <td>1.0</td>\n",
              "      <td>1.0</td>\n",
              "      <td>0.0</td>\n",
              "      <td>1.0</td>\n",
              "      <td>1.0</td>\n",
              "      <td>1.0</td>\n",
              "      <td>1.0</td>\n",
              "      <td>1.0</td>\n",
              "      <td>1.0</td>\n",
              "      <td>1.0</td>\n",
              "      <td>1.0</td>\n",
              "      <td>1.0</td>\n",
              "      <td>1.0</td>\n",
              "      <td>1.0</td>\n",
              "      <td>1.0</td>\n",
              "      <td>1.0</td>\n",
              "      <td>1.0</td>\n",
              "      <td>1.0</td>\n",
              "      <td>1.0</td>\n",
              "      <td>1.0</td>\n",
              "      <td>1.0</td>\n",
              "      <td>1.0</td>\n",
              "      <td>1.0</td>\n",
              "      <td>1.0</td>\n",
              "      <td>1.0</td>\n",
              "      <td>1.0</td>\n",
              "      <td>1.0</td>\n",
              "      <td>1.0</td>\n",
              "      <td>1.0</td>\n",
              "      <td>1.0</td>\n",
              "      <td>1.0</td>\n",
              "      <td>1.0</td>\n",
              "      <td>1.0</td>\n",
              "      <td>1.0</td>\n",
              "      <td>1.0</td>\n",
              "      <td>1.0</td>\n",
              "      <td>1.0</td>\n",
              "      <td>...</td>\n",
              "      <td>1.0</td>\n",
              "      <td>1.0</td>\n",
              "      <td>1.0</td>\n",
              "      <td>1.0</td>\n",
              "      <td>1.0</td>\n",
              "      <td>1.0</td>\n",
              "      <td>1.0</td>\n",
              "      <td>1.0</td>\n",
              "      <td>1.0</td>\n",
              "      <td>1.0</td>\n",
              "      <td>1.0</td>\n",
              "      <td>1.0</td>\n",
              "      <td>1.0</td>\n",
              "      <td>1.0</td>\n",
              "      <td>1.0</td>\n",
              "      <td>1.0</td>\n",
              "      <td>1.0</td>\n",
              "      <td>1.0</td>\n",
              "      <td>1.0</td>\n",
              "      <td>1.0</td>\n",
              "      <td>1.0</td>\n",
              "      <td>1.0</td>\n",
              "      <td>1.0</td>\n",
              "      <td>1.0</td>\n",
              "      <td>1.0</td>\n",
              "      <td>1.0</td>\n",
              "      <td>1.0</td>\n",
              "      <td>1.0</td>\n",
              "      <td>1.0</td>\n",
              "      <td>1.0</td>\n",
              "      <td>1.0</td>\n",
              "      <td>1.0</td>\n",
              "      <td>1.0</td>\n",
              "      <td>1.0</td>\n",
              "      <td>1.0</td>\n",
              "      <td>1.0</td>\n",
              "      <td>1.0</td>\n",
              "      <td>1.0</td>\n",
              "      <td>1.0</td>\n",
              "      <td>1.0</td>\n",
              "      <td>1.0</td>\n",
              "      <td>1.0</td>\n",
              "      <td>1.0</td>\n",
              "      <td>1.0</td>\n",
              "      <td>1.0</td>\n",
              "      <td>1.0</td>\n",
              "      <td>1.0</td>\n",
              "      <td>1.0</td>\n",
              "      <td>1.0</td>\n",
              "      <td>1.0</td>\n",
              "    </tr>\n",
              "  </tbody>\n",
              "</table>\n",
              "<p>2 rows × 142 columns</p>\n",
              "</div>"
            ],
            "text/plain": [
              "      0    1    2    3    4    5    6    7    8    9    10   11   12   13   \\\n",
              "mean -0.0 -0.0 -0.0  0.0 -0.0  0.0  0.0 -0.0 -0.0 -0.0 -0.0 -0.0  0.0  0.0   \n",
              "std   1.0  1.0  1.0  1.0  1.0  1.0  1.0  1.0  1.0  1.0  1.0  1.0  1.0  1.0   \n",
              "\n",
              "      14   15   16   17   18   19   20   21   22   23   24   25   26   27   \\\n",
              "mean  0.0  0.0 -0.0 -0.0  0.0  0.0  0.0 -0.0  0.0 -0.0  0.0  0.0  0.0  0.0   \n",
              "std   1.0  0.0  1.0  1.0  1.0  1.0  1.0  1.0  1.0  1.0  1.0  1.0  1.0  1.0   \n",
              "\n",
              "      28   29   30   31   32   33   34   35   36   37   38   39   40   41   \\\n",
              "mean  0.0  0.0  0.0 -0.0 -0.0  0.0  0.0  0.0 -0.0 -0.0  0.0  0.0  0.0 -0.0   \n",
              "std   1.0  1.0  1.0  1.0  1.0  1.0  1.0  1.0  1.0  1.0  1.0  1.0  1.0  1.0   \n",
              "\n",
              "      42   43   44   45   46   47   48   49   ...  92   93   94   95   96   \\\n",
              "mean  0.0 -0.0  0.0 -0.0 -0.0 -0.0  0.0  0.0  ... -0.0 -0.0 -0.0 -0.0 -0.0   \n",
              "std   1.0  1.0  1.0  1.0  1.0  1.0  1.0  1.0  ...  1.0  1.0  1.0  1.0  1.0   \n",
              "\n",
              "      97   98   99   100  101  102  103  104  105  106  107  108  109  110  \\\n",
              "mean  0.0 -0.0 -0.0 -0.0 -0.0 -0.0 -0.0 -0.0 -0.0  0.0 -0.0  0.0 -0.0 -0.0   \n",
              "std   1.0  1.0  1.0  1.0  1.0  1.0  1.0  1.0  1.0  1.0  1.0  1.0  1.0  1.0   \n",
              "\n",
              "      111  112  113  114  115  116  117  118  119  120  121  122  123  124  \\\n",
              "mean -0.0 -0.0  0.0 -0.0 -0.0  0.0  0.0 -0.0  0.0  0.0  0.0  0.0  0.0  0.0   \n",
              "std   1.0  1.0  1.0  1.0  1.0  1.0  1.0  1.0  1.0  1.0  1.0  1.0  1.0  1.0   \n",
              "\n",
              "      125  126  127  128  129  130  131  132  133  134  135  136  137  138  \\\n",
              "mean  0.0 -0.0 -0.0 -0.0 -0.0 -0.0 -0.0  0.0  0.0 -0.0  0.0  0.0 -0.0  0.0   \n",
              "std   1.0  1.0  1.0  1.0  1.0  1.0  1.0  1.0  1.0  1.0  1.0  1.0  1.0  1.0   \n",
              "\n",
              "      139  140  141  \n",
              "mean -0.0  0.0 -0.0  \n",
              "std   1.0  1.0  1.0  \n",
              "\n",
              "[2 rows x 142 columns]"
            ]
          },
          "execution_count": 15,
          "metadata": {},
          "output_type": "execute_result"
        }
      ],
      "source": [
        "pd.DataFrame(X_train_scaled).agg([\"mean\", \"std\"]).round()"
      ]
    },
    {
      "cell_type": "code",
      "execution_count": null,
      "metadata": {
        "colab": {
          "base_uri": "https://localhost:8080/",
          "height": 206
        },
        "id": "uX8X3ymW1BIm",
        "outputId": "0ec7d3a4-d36c-4d22-cc17-f4f01eff8a7c"
      },
      "outputs": [
        {
          "data": {
            "text/html": [
              "\n",
              "  <div id=\"df-b82a7099-f1aa-438b-bec5-1142598365f7\">\n",
              "    <div class=\"colab-df-container\">\n",
              "      <div>\n",
              "<style scoped>\n",
              "    .dataframe tbody tr th:only-of-type {\n",
              "        vertical-align: middle;\n",
              "    }\n",
              "\n",
              "    .dataframe tbody tr th {\n",
              "        vertical-align: top;\n",
              "    }\n",
              "\n",
              "    .dataframe thead th {\n",
              "        text-align: right;\n",
              "    }\n",
              "</style>\n",
              "<table border=\"1\" class=\"dataframe\">\n",
              "  <thead>\n",
              "    <tr style=\"text-align: right;\">\n",
              "      <th></th>\n",
              "      <th>0</th>\n",
              "      <th>1</th>\n",
              "      <th>2</th>\n",
              "      <th>3</th>\n",
              "      <th>4</th>\n",
              "      <th>5</th>\n",
              "      <th>6</th>\n",
              "      <th>7</th>\n",
              "      <th>8</th>\n",
              "      <th>9</th>\n",
              "      <th>10</th>\n",
              "      <th>11</th>\n",
              "      <th>12</th>\n",
              "      <th>13</th>\n",
              "      <th>14</th>\n",
              "      <th>15</th>\n",
              "      <th>16</th>\n",
              "      <th>17</th>\n",
              "      <th>18</th>\n",
              "      <th>19</th>\n",
              "      <th>20</th>\n",
              "      <th>21</th>\n",
              "      <th>22</th>\n",
              "      <th>23</th>\n",
              "      <th>24</th>\n",
              "      <th>25</th>\n",
              "      <th>26</th>\n",
              "      <th>27</th>\n",
              "      <th>28</th>\n",
              "      <th>29</th>\n",
              "      <th>30</th>\n",
              "      <th>31</th>\n",
              "      <th>32</th>\n",
              "      <th>33</th>\n",
              "      <th>34</th>\n",
              "      <th>35</th>\n",
              "      <th>36</th>\n",
              "      <th>37</th>\n",
              "      <th>38</th>\n",
              "      <th>39</th>\n",
              "      <th>40</th>\n",
              "      <th>41</th>\n",
              "      <th>42</th>\n",
              "      <th>43</th>\n",
              "      <th>44</th>\n",
              "      <th>45</th>\n",
              "      <th>46</th>\n",
              "      <th>47</th>\n",
              "      <th>48</th>\n",
              "      <th>49</th>\n",
              "      <th>...</th>\n",
              "      <th>127</th>\n",
              "      <th>128</th>\n",
              "      <th>129</th>\n",
              "      <th>130</th>\n",
              "      <th>131</th>\n",
              "      <th>132</th>\n",
              "      <th>133</th>\n",
              "      <th>134</th>\n",
              "      <th>135</th>\n",
              "      <th>136</th>\n",
              "      <th>137</th>\n",
              "      <th>138</th>\n",
              "      <th>139</th>\n",
              "      <th>140</th>\n",
              "      <th>141</th>\n",
              "      <th>142</th>\n",
              "      <th>143</th>\n",
              "      <th>144</th>\n",
              "      <th>145</th>\n",
              "      <th>146</th>\n",
              "      <th>147</th>\n",
              "      <th>148</th>\n",
              "      <th>149</th>\n",
              "      <th>150</th>\n",
              "      <th>151</th>\n",
              "      <th>152</th>\n",
              "      <th>153</th>\n",
              "      <th>154</th>\n",
              "      <th>155</th>\n",
              "      <th>156</th>\n",
              "      <th>157</th>\n",
              "      <th>158</th>\n",
              "      <th>159</th>\n",
              "      <th>160</th>\n",
              "      <th>161</th>\n",
              "      <th>162</th>\n",
              "      <th>163</th>\n",
              "      <th>164</th>\n",
              "      <th>165</th>\n",
              "      <th>166</th>\n",
              "      <th>167</th>\n",
              "      <th>168</th>\n",
              "      <th>169</th>\n",
              "      <th>170</th>\n",
              "      <th>171</th>\n",
              "      <th>172</th>\n",
              "      <th>173</th>\n",
              "      <th>174</th>\n",
              "      <th>175</th>\n",
              "      <th>176</th>\n",
              "    </tr>\n",
              "  </thead>\n",
              "  <tbody>\n",
              "    <tr>\n",
              "      <th>mean</th>\n",
              "      <td>0.0</td>\n",
              "      <td>0.0</td>\n",
              "      <td>-0.0</td>\n",
              "      <td>0.0</td>\n",
              "      <td>0.0</td>\n",
              "      <td>0.0</td>\n",
              "      <td>-0.0</td>\n",
              "      <td>-0.0</td>\n",
              "      <td>0.0</td>\n",
              "      <td>-0.0</td>\n",
              "      <td>-0.0</td>\n",
              "      <td>0.0</td>\n",
              "      <td>0.0</td>\n",
              "      <td>-0.0</td>\n",
              "      <td>0.0</td>\n",
              "      <td>-0.0</td>\n",
              "      <td>0.0</td>\n",
              "      <td>0.0</td>\n",
              "      <td>0.0</td>\n",
              "      <td>-0.0</td>\n",
              "      <td>0.0</td>\n",
              "      <td>-0.0</td>\n",
              "      <td>-0.0</td>\n",
              "      <td>0.0</td>\n",
              "      <td>-0.0</td>\n",
              "      <td>0.0</td>\n",
              "      <td>0.0</td>\n",
              "      <td>-0.0</td>\n",
              "      <td>-0.0</td>\n",
              "      <td>-0.0</td>\n",
              "      <td>0.0</td>\n",
              "      <td>0.0</td>\n",
              "      <td>-0.0</td>\n",
              "      <td>0.0</td>\n",
              "      <td>0.0</td>\n",
              "      <td>0.0</td>\n",
              "      <td>0.0</td>\n",
              "      <td>0.0</td>\n",
              "      <td>-0.0</td>\n",
              "      <td>0.0</td>\n",
              "      <td>-0.0</td>\n",
              "      <td>0.0</td>\n",
              "      <td>0.0</td>\n",
              "      <td>-0.0</td>\n",
              "      <td>-0.0</td>\n",
              "      <td>-0.0</td>\n",
              "      <td>0.0</td>\n",
              "      <td>0.0</td>\n",
              "      <td>0.0</td>\n",
              "      <td>-0.0</td>\n",
              "      <td>...</td>\n",
              "      <td>0.0</td>\n",
              "      <td>-0.0</td>\n",
              "      <td>0.0</td>\n",
              "      <td>0.0</td>\n",
              "      <td>0.0</td>\n",
              "      <td>0.0</td>\n",
              "      <td>0.0</td>\n",
              "      <td>0.0</td>\n",
              "      <td>0.0</td>\n",
              "      <td>-0.0</td>\n",
              "      <td>0.0</td>\n",
              "      <td>-0.0</td>\n",
              "      <td>-0.0</td>\n",
              "      <td>-0.0</td>\n",
              "      <td>-0.0</td>\n",
              "      <td>-0.0</td>\n",
              "      <td>0.0</td>\n",
              "      <td>-0.0</td>\n",
              "      <td>-0.0</td>\n",
              "      <td>0.0</td>\n",
              "      <td>-0.0</td>\n",
              "      <td>0.0</td>\n",
              "      <td>-0.0</td>\n",
              "      <td>-0.0</td>\n",
              "      <td>0.0</td>\n",
              "      <td>0.0</td>\n",
              "      <td>0.0</td>\n",
              "      <td>0.0</td>\n",
              "      <td>0.0</td>\n",
              "      <td>0.0</td>\n",
              "      <td>0.0</td>\n",
              "      <td>0.0</td>\n",
              "      <td>0.0</td>\n",
              "      <td>0.0</td>\n",
              "      <td>-0.0</td>\n",
              "      <td>0.0</td>\n",
              "      <td>0.0</td>\n",
              "      <td>0.0</td>\n",
              "      <td>-0.0</td>\n",
              "      <td>-0.0</td>\n",
              "      <td>-0.0</td>\n",
              "      <td>0.0</td>\n",
              "      <td>0.0</td>\n",
              "      <td>0.0</td>\n",
              "      <td>0.0</td>\n",
              "      <td>0.0</td>\n",
              "      <td>-0.0</td>\n",
              "      <td>0.0</td>\n",
              "      <td>0.0</td>\n",
              "      <td>0.0</td>\n",
              "    </tr>\n",
              "    <tr>\n",
              "      <th>std</th>\n",
              "      <td>1.0</td>\n",
              "      <td>1.0</td>\n",
              "      <td>1.0</td>\n",
              "      <td>1.0</td>\n",
              "      <td>1.0</td>\n",
              "      <td>1.0</td>\n",
              "      <td>1.0</td>\n",
              "      <td>1.0</td>\n",
              "      <td>1.0</td>\n",
              "      <td>1.0</td>\n",
              "      <td>1.0</td>\n",
              "      <td>1.0</td>\n",
              "      <td>1.0</td>\n",
              "      <td>1.0</td>\n",
              "      <td>1.0</td>\n",
              "      <td>1.0</td>\n",
              "      <td>1.0</td>\n",
              "      <td>1.0</td>\n",
              "      <td>1.0</td>\n",
              "      <td>1.0</td>\n",
              "      <td>1.0</td>\n",
              "      <td>1.0</td>\n",
              "      <td>1.0</td>\n",
              "      <td>1.0</td>\n",
              "      <td>1.0</td>\n",
              "      <td>1.0</td>\n",
              "      <td>1.0</td>\n",
              "      <td>1.0</td>\n",
              "      <td>1.0</td>\n",
              "      <td>1.0</td>\n",
              "      <td>1.0</td>\n",
              "      <td>1.0</td>\n",
              "      <td>1.0</td>\n",
              "      <td>1.0</td>\n",
              "      <td>1.0</td>\n",
              "      <td>1.0</td>\n",
              "      <td>1.0</td>\n",
              "      <td>1.0</td>\n",
              "      <td>1.0</td>\n",
              "      <td>1.0</td>\n",
              "      <td>1.0</td>\n",
              "      <td>1.0</td>\n",
              "      <td>1.0</td>\n",
              "      <td>1.0</td>\n",
              "      <td>1.0</td>\n",
              "      <td>1.0</td>\n",
              "      <td>1.0</td>\n",
              "      <td>1.0</td>\n",
              "      <td>1.0</td>\n",
              "      <td>1.0</td>\n",
              "      <td>...</td>\n",
              "      <td>1.0</td>\n",
              "      <td>1.0</td>\n",
              "      <td>1.0</td>\n",
              "      <td>1.0</td>\n",
              "      <td>1.0</td>\n",
              "      <td>1.0</td>\n",
              "      <td>1.0</td>\n",
              "      <td>1.0</td>\n",
              "      <td>1.0</td>\n",
              "      <td>1.0</td>\n",
              "      <td>1.0</td>\n",
              "      <td>1.0</td>\n",
              "      <td>1.0</td>\n",
              "      <td>1.0</td>\n",
              "      <td>1.0</td>\n",
              "      <td>1.0</td>\n",
              "      <td>1.0</td>\n",
              "      <td>1.0</td>\n",
              "      <td>1.0</td>\n",
              "      <td>1.0</td>\n",
              "      <td>1.0</td>\n",
              "      <td>1.0</td>\n",
              "      <td>1.0</td>\n",
              "      <td>1.0</td>\n",
              "      <td>0.0</td>\n",
              "      <td>1.0</td>\n",
              "      <td>1.0</td>\n",
              "      <td>1.0</td>\n",
              "      <td>1.0</td>\n",
              "      <td>1.0</td>\n",
              "      <td>0.0</td>\n",
              "      <td>0.0</td>\n",
              "      <td>1.0</td>\n",
              "      <td>1.0</td>\n",
              "      <td>1.0</td>\n",
              "      <td>1.0</td>\n",
              "      <td>1.0</td>\n",
              "      <td>1.0</td>\n",
              "      <td>1.0</td>\n",
              "      <td>1.0</td>\n",
              "      <td>1.0</td>\n",
              "      <td>1.0</td>\n",
              "      <td>1.0</td>\n",
              "      <td>1.0</td>\n",
              "      <td>1.0</td>\n",
              "      <td>0.0</td>\n",
              "      <td>1.0</td>\n",
              "      <td>1.0</td>\n",
              "      <td>1.0</td>\n",
              "      <td>1.0</td>\n",
              "    </tr>\n",
              "  </tbody>\n",
              "</table>\n",
              "<p>2 rows × 177 columns</p>\n",
              "</div>\n",
              "      <button class=\"colab-df-convert\" onclick=\"convertToInteractive('df-b82a7099-f1aa-438b-bec5-1142598365f7')\"\n",
              "              title=\"Convert this dataframe to an interactive table.\"\n",
              "              style=\"display:none;\">\n",
              "        \n",
              "  <svg xmlns=\"http://www.w3.org/2000/svg\" height=\"24px\"viewBox=\"0 0 24 24\"\n",
              "       width=\"24px\">\n",
              "    <path d=\"M0 0h24v24H0V0z\" fill=\"none\"/>\n",
              "    <path d=\"M18.56 5.44l.94 2.06.94-2.06 2.06-.94-2.06-.94-.94-2.06-.94 2.06-2.06.94zm-11 1L8.5 8.5l.94-2.06 2.06-.94-2.06-.94L8.5 2.5l-.94 2.06-2.06.94zm10 10l.94 2.06.94-2.06 2.06-.94-2.06-.94-.94-2.06-.94 2.06-2.06.94z\"/><path d=\"M17.41 7.96l-1.37-1.37c-.4-.4-.92-.59-1.43-.59-.52 0-1.04.2-1.43.59L10.3 9.45l-7.72 7.72c-.78.78-.78 2.05 0 2.83L4 21.41c.39.39.9.59 1.41.59.51 0 1.02-.2 1.41-.59l7.78-7.78 2.81-2.81c.8-.78.8-2.07 0-2.86zM5.41 20L4 18.59l7.72-7.72 1.47 1.35L5.41 20z\"/>\n",
              "  </svg>\n",
              "      </button>\n",
              "      \n",
              "  <style>\n",
              "    .colab-df-container {\n",
              "      display:flex;\n",
              "      flex-wrap:wrap;\n",
              "      gap: 12px;\n",
              "    }\n",
              "\n",
              "    .colab-df-convert {\n",
              "      background-color: #E8F0FE;\n",
              "      border: none;\n",
              "      border-radius: 50%;\n",
              "      cursor: pointer;\n",
              "      display: none;\n",
              "      fill: #1967D2;\n",
              "      height: 32px;\n",
              "      padding: 0 0 0 0;\n",
              "      width: 32px;\n",
              "    }\n",
              "\n",
              "    .colab-df-convert:hover {\n",
              "      background-color: #E2EBFA;\n",
              "      box-shadow: 0px 1px 2px rgba(60, 64, 67, 0.3), 0px 1px 3px 1px rgba(60, 64, 67, 0.15);\n",
              "      fill: #174EA6;\n",
              "    }\n",
              "\n",
              "    [theme=dark] .colab-df-convert {\n",
              "      background-color: #3B4455;\n",
              "      fill: #D2E3FC;\n",
              "    }\n",
              "\n",
              "    [theme=dark] .colab-df-convert:hover {\n",
              "      background-color: #434B5C;\n",
              "      box-shadow: 0px 1px 3px 1px rgba(0, 0, 0, 0.15);\n",
              "      filter: drop-shadow(0px 1px 2px rgba(0, 0, 0, 0.3));\n",
              "      fill: #FFFFFF;\n",
              "    }\n",
              "  </style>\n",
              "\n",
              "      <script>\n",
              "        const buttonEl =\n",
              "          document.querySelector('#df-b82a7099-f1aa-438b-bec5-1142598365f7 button.colab-df-convert');\n",
              "        buttonEl.style.display =\n",
              "          google.colab.kernel.accessAllowed ? 'block' : 'none';\n",
              "\n",
              "        async function convertToInteractive(key) {\n",
              "          const element = document.querySelector('#df-b82a7099-f1aa-438b-bec5-1142598365f7');\n",
              "          const dataTable =\n",
              "            await google.colab.kernel.invokeFunction('convertToInteractive',\n",
              "                                                     [key], {});\n",
              "          if (!dataTable) return;\n",
              "\n",
              "          const docLinkHtml = 'Like what you see? Visit the ' +\n",
              "            '<a target=\"_blank\" href=https://colab.research.google.com/notebooks/data_table.ipynb>data table notebook</a>'\n",
              "            + ' to learn more about interactive tables.';\n",
              "          element.innerHTML = '';\n",
              "          dataTable['output_type'] = 'display_data';\n",
              "          await google.colab.output.renderOutput(dataTable, element);\n",
              "          const docLink = document.createElement('div');\n",
              "          docLink.innerHTML = docLinkHtml;\n",
              "          element.appendChild(docLink);\n",
              "        }\n",
              "      </script>\n",
              "    </div>\n",
              "  </div>\n",
              "  "
            ],
            "text/plain": [
              "      0    1    2    3    4    5    6    7    8    9    10   11   12   13   \\\n",
              "mean  0.0  0.0 -0.0  0.0  0.0  0.0 -0.0 -0.0  0.0 -0.0 -0.0  0.0  0.0 -0.0   \n",
              "std   1.0  1.0  1.0  1.0  1.0  1.0  1.0  1.0  1.0  1.0  1.0  1.0  1.0  1.0   \n",
              "\n",
              "      14   15   16   17   18   19   20   21   22   23   24   25   26   27   \\\n",
              "mean  0.0 -0.0  0.0  0.0  0.0 -0.0  0.0 -0.0 -0.0  0.0 -0.0  0.0  0.0 -0.0   \n",
              "std   1.0  1.0  1.0  1.0  1.0  1.0  1.0  1.0  1.0  1.0  1.0  1.0  1.0  1.0   \n",
              "\n",
              "      28   29   30   31   32   33   34   35   36   37   38   39   40   41   \\\n",
              "mean -0.0 -0.0  0.0  0.0 -0.0  0.0  0.0  0.0  0.0  0.0 -0.0  0.0 -0.0  0.0   \n",
              "std   1.0  1.0  1.0  1.0  1.0  1.0  1.0  1.0  1.0  1.0  1.0  1.0  1.0  1.0   \n",
              "\n",
              "      42   43   44   45   46   47   48   49   ...  127  128  129  130  131  \\\n",
              "mean  0.0 -0.0 -0.0 -0.0  0.0  0.0  0.0 -0.0  ...  0.0 -0.0  0.0  0.0  0.0   \n",
              "std   1.0  1.0  1.0  1.0  1.0  1.0  1.0  1.0  ...  1.0  1.0  1.0  1.0  1.0   \n",
              "\n",
              "      132  133  134  135  136  137  138  139  140  141  142  143  144  145  \\\n",
              "mean  0.0  0.0  0.0  0.0 -0.0  0.0 -0.0 -0.0 -0.0 -0.0 -0.0  0.0 -0.0 -0.0   \n",
              "std   1.0  1.0  1.0  1.0  1.0  1.0  1.0  1.0  1.0  1.0  1.0  1.0  1.0  1.0   \n",
              "\n",
              "      146  147  148  149  150  151  152  153  154  155  156  157  158  159  \\\n",
              "mean  0.0 -0.0  0.0 -0.0 -0.0  0.0  0.0  0.0  0.0  0.0  0.0  0.0  0.0  0.0   \n",
              "std   1.0  1.0  1.0  1.0  1.0  0.0  1.0  1.0  1.0  1.0  1.0  0.0  0.0  1.0   \n",
              "\n",
              "      160  161  162  163  164  165  166  167  168  169  170  171  172  173  \\\n",
              "mean  0.0 -0.0  0.0  0.0  0.0 -0.0 -0.0 -0.0  0.0  0.0  0.0  0.0  0.0 -0.0   \n",
              "std   1.0  1.0  1.0  1.0  1.0  1.0  1.0  1.0  1.0  1.0  1.0  1.0  0.0  1.0   \n",
              "\n",
              "      174  175  176  \n",
              "mean  0.0  0.0  0.0  \n",
              "std   1.0  1.0  1.0  \n",
              "\n",
              "[2 rows x 177 columns]"
            ]
          },
          "execution_count": 11,
          "metadata": {},
          "output_type": "execute_result"
        }
      ],
      "source": [
        "pd.DataFrame(X_test_scaled).agg([\"mean\", \"std\"]).round()"
      ]
    },
    {
      "cell_type": "markdown",
      "metadata": {
        "id": "NObj4QIO086B"
      },
      "source": [
        "##with robustscaler"
      ]
    },
    {
      "cell_type": "code",
      "execution_count": null,
      "metadata": {
        "id": "YcXlSfd_1B3F"
      },
      "outputs": [],
      "source": []
    },
    {
      "cell_type": "code",
      "execution_count": 25,
      "metadata": {
        "id": "seCJ_7Fs1F6j"
      },
      "outputs": [],
      "source": [
        "from sklearn.preprocessing import StandardScaler, MinMaxScaler, RobustScaler\n",
        "\n",
        "scaler = RobustScaler()"
      ]
    },
    {
      "cell_type": "code",
      "execution_count": 86,
      "metadata": {
        "colab": {
          "base_uri": "https://localhost:8080/"
        },
        "id": "37ER4tdd1F6k",
        "outputId": "c55d0164-fdba-4e4b-bce9-a90c40612d34"
      },
      "outputs": [
        {
          "data": {
            "text/plain": [
              "array([[-0.28617504,  1.13477991,  0.52656809, ..., -0.02680402,\n",
              "        -0.02507174, -0.01641036],\n",
              "       [-0.42894859, -0.83804162, -1.02857323, ..., -0.02680402,\n",
              "        -0.02507174, -0.01641036],\n",
              "       [ 0.26881669,  0.79977248,  0.52656809, ..., -0.02680402,\n",
              "        -0.02507174, -0.01641036],\n",
              "       ...,\n",
              "       [-0.40523006, -0.68914943,  0.52656809, ..., -0.02680402,\n",
              "        -0.02507174, -0.01641036],\n",
              "       [-0.69355158, -1.06137991,  0.52656809, ..., -0.02680402,\n",
              "        -0.02507174, -0.01641036],\n",
              "       [-0.40302685, -0.05635762, -1.02857323, ..., -0.02680402,\n",
              "        -0.02507174, -0.01641036]])"
            ]
          },
          "execution_count": 86,
          "metadata": {},
          "output_type": "execute_result"
        }
      ],
      "source": [
        "X_train_rscaled = scaler.fit_transform(X_train)\n",
        "X_train_rscaled"
      ]
    },
    {
      "cell_type": "code",
      "execution_count": 87,
      "metadata": {
        "colab": {
          "base_uri": "https://localhost:8080/"
        },
        "id": "WAwzYLF61F6k",
        "outputId": "c679562a-3aa9-4dc0-fb2b-3d79b386f8b3"
      },
      "outputs": [
        {
          "data": {
            "text/plain": [
              "array([[-0.69191957, -0.68914943,  0.52656809, ..., -0.02680402,\n",
              "        -0.02507174, -0.01641036],\n",
              "       [-0.25562928, -0.05635762,  0.52656809, ..., -0.02680402,\n",
              "        -0.02507174, -0.01641036],\n",
              "       [ 1.46042777,  0.427542  ,  0.52656809, ..., -0.02680402,\n",
              "        -0.02507174, -0.01641036],\n",
              "       ...,\n",
              "       [-0.38564596, -0.13080371,  0.52656809, ..., -0.02680402,\n",
              "        -0.02507174, -0.01641036],\n",
              "       [-0.8675509 , -1.39638734,  0.52656809, ..., -0.02680402,\n",
              "        -0.02507174, -0.01641036],\n",
              "       [-0.22434911, -0.05635762,  0.52656809, ..., -0.02680402,\n",
              "        -0.02507174, -0.01641036]])"
            ]
          },
          "execution_count": 87,
          "metadata": {},
          "output_type": "execute_result"
        }
      ],
      "source": [
        "X_test_rscaled = scaler.transform(X_test)\n",
        "X_test_rscaled"
      ]
    },
    {
      "cell_type": "markdown",
      "metadata": {
        "id": "KMJ-3iGxbV9O"
      },
      "source": [
        "##  Model Building (Linear Regression)"
      ]
    },
    {
      "cell_type": "markdown",
      "metadata": {
        "id": "Ejm_bjcNIhIC"
      },
      "source": []
    },
    {
      "cell_type": "code",
      "execution_count": 16,
      "metadata": {
        "id": "VEOdF27LbV9P"
      },
      "outputs": [],
      "source": [
        "from sklearn.linear_model import LinearRegression"
      ]
    },
    {
      "cell_type": "code",
      "execution_count": 17,
      "metadata": {
        "id": "4LUDUKMDZ0Y5"
      },
      "outputs": [],
      "source": [
        "lr=LinearRegression()"
      ]
    },
    {
      "cell_type": "markdown",
      "metadata": {
        "id": "6T7pkytsbV9Q"
      },
      "source": [
        "# Interpret the model"
      ]
    },
    {
      "cell_type": "code",
      "execution_count": 18,
      "metadata": {
        "colab": {
          "base_uri": "https://localhost:8080/"
        },
        "id": "TS-KF0JtbV9R",
        "outputId": "c606803b-f67b-4878-8430-0d52dcf8a774"
      },
      "outputs": [
        {
          "data": {
            "text/plain": [
              "LinearRegression()"
            ]
          },
          "execution_count": 18,
          "metadata": {},
          "output_type": "execute_result"
        }
      ],
      "source": [
        "lr.fit(X_train, y_train)"
      ]
    },
    {
      "cell_type": "code",
      "execution_count": 19,
      "metadata": {
        "id": "2hwB29tjyqm-"
      },
      "outputs": [],
      "source": [
        "predictions = lr.predict(X_test)"
      ]
    },
    {
      "cell_type": "code",
      "execution_count": 20,
      "metadata": {
        "colab": {
          "base_uri": "https://localhost:8080/",
          "height": 300
        },
        "id": "QUz-PEpLyx1x",
        "outputId": "bdbc9c76-9ff8-4e0b-a46d-cf156e43eb41"
      },
      "outputs": [
        {
          "data": {
            "text/plain": [
              "Text(0, 0.5, 'PRedictions Y')"
            ]
          },
          "execution_count": 20,
          "metadata": {},
          "output_type": "execute_result"
        },
        {
          "data": {
            "image/png": "[encoded data removed]",
            "text/plain": [
              "<Figure size 720x432 with 1 Axes>"
            ]
          },
          "metadata": {
            "needs_background": "light"
          },
          "output_type": "display_data"
        }
      ],
      "source": [
        "plt.scatter(y_test,predictions)\n",
        "plt.xlabel('Y Test')\n",
        "plt.ylabel('PRedictions Y')"
      ]
    },
    {
      "cell_type": "code",
      "execution_count": null,
      "metadata": {
        "id": "1FVFVOmQeOGD"
      },
      "outputs": [],
      "source": []
    },
    {
      "cell_type": "code",
      "execution_count": 21,
      "metadata": {
        "colab": {
          "base_uri": "https://localhost:8080/"
        },
        "id": "8Vf_-Zahy8n-",
        "outputId": "d66aa8ec-5093-4056-a8e5-ea680fdf1f87"
      },
      "outputs": [
        {
          "data": {
            "text/plain": [
              "LinearRegression()"
            ]
          },
          "execution_count": 21,
          "metadata": {},
          "output_type": "execute_result"
        }
      ],
      "source": [
        "lr.fit(X_train_scaled, y_train)"
      ]
    },
    {
      "cell_type": "code",
      "execution_count": 22,
      "metadata": {
        "colab": {
          "base_uri": "https://localhost:8080/"
        },
        "id": "Q5m0Y_Po6_5G",
        "outputId": "4411d25a-96cb-4777-dbec-f679e270aa2e"
      },
      "outputs": [
        {
          "name": "stdout",
          "output_type": "stream",
          "text": [
            "Lrcoeff:  [-1.33369137e+03  4.49558722e+02 -1.79503795e+03  4.03905046e+01\n",
            "  2.48999498e+03 -7.80925171e+01 -2.71546174e+02 -2.37919611e+02\n",
            "  1.52734450e+02  7.62056510e+01 -2.84116416e+01  1.12503465e+01\n",
            "  1.32590275e+02 -2.01049849e+01  1.27133013e+02  3.84651752e+14\n",
            " -3.66685207e+01  3.31201185e+01  8.81986195e+01  1.05089770e+02\n",
            "  4.52784212e+02  1.98558262e+02  6.23343826e+01  5.36178014e+00\n",
            " -3.39320233e+01  4.67751342e+01  4.42407252e+01 -1.32798363e+02\n",
            "  4.87957824e+01  4.49560611e+01  1.68144566e+02 -6.90665408e+01\n",
            "  2.58923527e+02  4.46015625e+01  2.34656250e+02  1.15138672e+02\n",
            " -2.08289062e+02  8.07910156e+00 -1.09931641e+02 -1.57598877e+01\n",
            "  1.84529297e+02 -7.98750000e+01 -2.39726562e+01  1.09542969e+02\n",
            "  8.08593750e-01 -4.19492188e+01  1.78632812e+01 -2.29015625e+02\n",
            "  3.18359375e+01  2.80621094e+02  3.18320312e+01  2.98906250e+01\n",
            " -2.42236328e+00  7.21425781e+01 -7.89921875e+01 -9.04687500e+00\n",
            " -1.54113281e+02  5.79062500e+01  2.00468750e+01  5.41425781e+01\n",
            " -6.67968750e+00 -2.56640625e+01  1.22656250e+01 -1.84375000e+00\n",
            " -7.47187500e+01  3.10117188e+01  1.48992188e+02  4.50664062e+01\n",
            " -2.31015625e+01 -9.92890625e+01  1.30898438e+01  9.57265625e+01\n",
            " -5.74804688e+01 -4.50195312e+00  2.98906250e+01  3.62285156e+01\n",
            "  1.84882812e+01  5.49140625e+01 -7.25781250e+01 -9.36777344e+01\n",
            " -4.90234375e+00 -1.12609375e+02 -6.47265625e+00  1.24765625e+01\n",
            " -6.45625000e+01  6.30878906e+01 -2.40220703e+02 -5.51611328e+01\n",
            " -2.91953125e+01 -1.58519531e+02 -1.66330078e+02 -7.42812500e+01\n",
            "  3.24589844e+02  2.95679688e+02  2.05722656e+01  1.24585938e+02\n",
            " -1.75742188e+02 -1.46044922e+02  9.18671875e+01  5.60468750e+01\n",
            "  4.43984375e+01  2.03515625e+00 -1.26726562e+02  2.08027377e+14\n",
            "  5.30061684e+12  2.20370818e+14  2.04484407e+14  1.93422910e+14\n",
            "  2.06203523e+14  1.80046268e+14  2.48386499e+13  1.36130887e+14\n",
            " -6.78575950e+12 -2.75923193e+11 -6.56415608e+11 -9.41102167e+11\n",
            " -8.40789861e+12 -7.07080319e+12 -1.26102827e+12 -3.72059281e+12\n",
            "  5.32783228e+14  5.32783228e+14  6.84930411e+13  7.70007641e+13\n",
            "  9.50409540e+13  8.87152421e+13  1.44555244e+14 -9.79285041e+14\n",
            " -9.78598101e+14 -4.16010731e+13 -1.23192419e+14  1.98020546e+15\n",
            "  3.96049045e+14  1.94347108e+15  6.57513846e+13  6.57513846e+13\n",
            " -1.81120162e+15 -1.81732270e+15 -6.18261109e+14  3.36342073e+14\n",
            "  3.40887688e+14  5.62204329e+13]\n"
          ]
        }
      ],
      "source": [
        "print(\"Lrcoeff: \",lr.coef_)"
      ]
    },
    {
      "cell_type": "code",
      "execution_count": null,
      "metadata": {
        "id": "KSE4g0Ym6k-4"
      },
      "outputs": [],
      "source": []
    },
    {
      "cell_type": "markdown",
      "metadata": {
        "id": "ibxU5DF51_J5"
      },
      "source": [
        "##Predicting Test Data"
      ]
    },
    {
      "cell_type": "code",
      "execution_count": 23,
      "metadata": {
        "id": "bksG5-BL1K7T"
      },
      "outputs": [],
      "source": [
        "y_pred = lr.predict(X_test_scaled)\n",
        "y_train_pred = lr.predict(X_train_scaled)"
      ]
    },
    {
      "cell_type": "code",
      "execution_count": 27,
      "metadata": {
        "colab": {
          "base_uri": "https://localhost:8080/"
        },
        "id": "bIsfdq5D7MMi",
        "outputId": "b6e5686c-e915-466d-f4f8-c36eb8ba3c12"
      },
      "outputs": [
        {
          "name": "stdout",
          "output_type": "stream",
          "text": [
            "Liner Regression MSE:  3.0985752992741004e+25\n"
          ]
        }
      ],
      "source": [
        "from sklearn.metrics import mean_squared_error\n",
        "print(\"Liner Regression MSE: \",mean_squared_error(y_test,y_pred))"
      ]
    },
    {
      "cell_type": "markdown",
      "metadata": {
        "id": "YaTHs5bS31RF"
      },
      "source": [
        "##Model Evaluation"
      ]
    },
    {
      "cell_type": "code",
      "execution_count": 28,
      "metadata": {
        "id": "8s_Ja08a1cM7"
      },
      "outputs": [],
      "source": [
        "from sklearn.metrics import mean_absolute_error, mean_squared_error, r2_score\n",
        "\n",
        "def train_val(y_train, y_train_pred, y_test, y_pred, i):\n",
        "    \n",
        "    scores = {i+\"_train\": {\"R2\" : r2_score(y_train, y_train_pred),\n",
        "    \"mae\" : mean_absolute_error(y_train, y_train_pred),\n",
        "    \"mse\" : mean_squared_error(y_train, y_train_pred),                          \n",
        "    \"rmse\" : np.sqrt(mean_squared_error(y_train, y_train_pred))},\n",
        "    \n",
        "    i+\"_test\": {\"R2\" : r2_score(y_test, y_pred),\n",
        "    \"mae\" : mean_absolute_error(y_test, y_pred),\n",
        "    \"mse\" : mean_squared_error(y_test, y_pred),\n",
        "    \"rmse\" : np.sqrt(mean_squared_error(y_test, y_pred))}}\n",
        "    \n",
        "    return pd.DataFrame(scores)"
      ]
    },
    {
      "cell_type": "code",
      "execution_count": null,
      "metadata": {
        "id": "xplr4rdMYcTl"
      },
      "outputs": [],
      "source": []
    },
    {
      "cell_type": "code",
      "execution_count": 29,
      "metadata": {
        "colab": {
          "base_uri": "https://localhost:8080/",
          "height": 175
        },
        "id": "ZphREU5h1lj3",
        "outputId": "0c90d0d9-b762-41cf-cbf6-00a04d100c89"
      },
      "outputs": [
        {
          "data": {
            "text/html": [
              "<div>\n",
              "<style scoped>\n",
              "    .dataframe tbody tr th:only-of-type {\n",
              "        vertical-align: middle;\n",
              "    }\n",
              "\n",
              "    .dataframe tbody tr th {\n",
              "        vertical-align: top;\n",
              "    }\n",
              "\n",
              "    .dataframe thead th {\n",
              "        text-align: right;\n",
              "    }\n",
              "</style>\n",
              "<table border=\"1\" class=\"dataframe\">\n",
              "  <thead>\n",
              "    <tr style=\"text-align: right;\">\n",
              "      <th></th>\n",
              "      <th>linear_train</th>\n",
              "      <th>linear_test</th>\n",
              "    </tr>\n",
              "  </thead>\n",
              "  <tbody>\n",
              "    <tr>\n",
              "      <th>R2</th>\n",
              "      <td>8.918696e-01</td>\n",
              "      <td>-5.824707e+17</td>\n",
              "    </tr>\n",
              "    <tr>\n",
              "      <th>mae</th>\n",
              "      <td>1.690184e+03</td>\n",
              "      <td>8.055534e+10</td>\n",
              "    </tr>\n",
              "    <tr>\n",
              "      <th>mse</th>\n",
              "      <td>5.951119e+06</td>\n",
              "      <td>3.098575e+25</td>\n",
              "    </tr>\n",
              "    <tr>\n",
              "      <th>rmse</th>\n",
              "      <td>2.439492e+03</td>\n",
              "      <td>5.566485e+12</td>\n",
              "    </tr>\n",
              "  </tbody>\n",
              "</table>\n",
              "</div>"
            ],
            "text/plain": [
              "      linear_train   linear_test\n",
              "R2    8.918696e-01 -5.824707e+17\n",
              "mae   1.690184e+03  8.055534e+10\n",
              "mse   5.951119e+06  3.098575e+25\n",
              "rmse  2.439492e+03  5.566485e+12"
            ]
          },
          "execution_count": 29,
          "metadata": {},
          "output_type": "execute_result"
        }
      ],
      "source": [
        "ls =train_val(y_train, y_train_pred, y_test, y_pred, \"linear\")\n",
        "ls"
      ]
    },
    {
      "cell_type": "code",
      "execution_count": null,
      "metadata": {
        "colab": {
          "base_uri": "https://localhost:8080/"
        },
        "id": "CL6FR3-aaKdL",
        "outputId": "efe171fb-48a0-46c7-9407-82bab7662e9c"
      },
      "outputs": [
        {
          "name": "stdout",
          "output_type": "stream",
          "text": [
            "Coefficients: \n",
            " [ 6.40489738e+03 -1.27215782e+03  2.27866135e+03  2.65988744e+02\n",
            " -3.06420698e+01 -1.19604573e+02  1.06126053e+02 -2.65769057e+02\n",
            " -1.30819571e+03  1.07159110e+01  5.02761297e+01 -2.17779019e+01\n",
            " -4.87670006e+01  1.27816984e+02 -7.07883488e+01  1.03031043e+02\n",
            "  5.44625392e+14 -9.64314152e+00  1.11066056e+02  6.46543839e+01\n",
            "  1.03403552e+02  5.43291331e+02  1.16782145e+02  9.15934841e+01\n",
            "  4.71019217e+01 -3.62419469e+01  1.15966603e+02  3.07989255e+01\n",
            " -1.18440675e+02  4.94817259e+01 -1.65212945e+01  7.99236614e+01\n",
            " -4.44470992e+01  1.72724609e+02  3.00703125e+01  2.09625000e+02\n",
            "  6.30000000e+01 -6.12363281e+01  7.06093750e+01 -1.38265625e+02\n",
            "  5.34882812e+01  1.85750000e+02 -1.20437500e+02 -5.03007812e+01\n",
            "  9.27343750e+01 -5.15507812e+01 -1.43491211e+01  4.50781250e+00\n",
            " -2.63265625e+02  6.57636719e+01  2.95832031e+02  3.04218750e+01\n",
            " -7.13203125e+01  2.42109375e+01  1.05960938e+02 -5.72109375e+01\n",
            " -4.98750000e+01 -1.14171875e+02  1.95468750e+01 -2.61987305e+01\n",
            "  3.81933594e+01 -4.25781250e+00 -1.55117188e+01  8.00625000e+01\n",
            " -2.53125000e+00 -6.23593750e+01  3.76093750e+01  1.61562500e+02\n",
            "  2.56308594e+01 -5.46679688e+01 -6.31718750e+01 -1.46640625e+01\n",
            "  7.48378906e+01 -7.17460938e+01 -1.27890625e+01 -4.76562500e+01\n",
            "  5.10937500e+01 -1.46875000e+01  6.46015625e+01 -5.55937500e+01\n",
            " -9.66640625e+01 -2.07226562e+00 -7.61015625e+01  2.01562500e+01\n",
            "  3.40820312e+01 -3.86718750e+00  7.38828125e+01 -2.16843750e+02\n",
            " -5.60195312e+01  3.06640625e+00 -1.29341797e+02 -1.50328125e+02\n",
            " -9.06562500e+01  3.47890625e+02  2.72304688e+02  1.86831055e+01\n",
            "  8.47500000e+01 -1.71082031e+02 -1.63031250e+02  5.28750000e+01\n",
            " -3.49453125e+01  9.09531250e+01  1.00000000e+00 -1.61906250e+02\n",
            " -1.40650434e+14 -3.58373088e+12 -1.48996802e+14 -1.38064297e+14\n",
            " -1.30704474e+14 -1.39882483e+14 -1.20959521e+14 -1.71699932e+13\n",
            " -9.28868137e+13 -1.23663715e+14 -5.08027333e+12 -1.17255411e+13\n",
            " -1.73274963e+13 -4.15133471e+13 -1.54830038e+14 -1.28398428e+14\n",
            " -2.30339902e+13 -6.90641416e+13 -4.46552314e+14 -4.46552314e+14\n",
            "  1.11795226e+14  1.11795226e+14 -7.52622205e+13 -4.00146871e+14\n",
            " -2.63646351e+14 -1.52023314e+13 -1.25414582e+14 -8.77785800e+12\n",
            " -9.36492433e+13 -3.98236241e+14 -1.24132087e+13 -2.21509031e+14\n",
            " -2.80490047e+14 -3.03923784e+13 -3.80985507e+14 -5.18512143e+13\n",
            "  1.43973941e+14  1.83089227e+13  1.42857502e+14  9.91610772e+14\n",
            "  9.94687022e+14  3.39787690e+14 -3.16196449e+14 -3.18829062e+14\n",
            " -4.17743485e+13  1.11555655e+15  1.11481221e+15  4.73884281e+13\n",
            "  1.35480326e+14 -1.12123503e+13 -1.54087219e+13 -1.90248940e+13\n",
            "  2.27877422e+14  1.35131490e+13  1.91096210e+13  2.30143069e+14\n",
            "  2.34033600e+13  6.20174005e+14  4.25292856e+14  2.36119363e+14\n",
            "  4.46142642e+14  8.67875433e+13  8.32059992e+13  2.31202803e+13\n",
            "  1.53504278e+14  1.07647390e+13  5.05271064e+13  1.16658447e+14\n",
            "  3.80710606e+12  9.73857317e+13  1.07647390e+13  1.00699434e+13\n",
            "  6.59350927e+12]\n"
          ]
        }
      ],
      "source": [
        "print('Coefficients: \\n', lr.coef_)"
      ]
    },
    {
      "cell_type": "markdown",
      "metadata": {
        "id": "gQg_J7y7a7-h"
      },
      "source": [
        "## Residuals\n",
        "Plotting a histogram of the residuals and  to make sure it looks normally distributed"
      ]
    },
    {
      "cell_type": "code",
      "execution_count": 95,
      "metadata": {
        "colab": {
          "base_uri": "https://localhost:8080/",
          "height": 333
        },
        "id": "LSv6lZBUa1hf",
        "outputId": "9e067329-ea5d-4e1c-a1dc-ddaeece49445"
      },
      "outputs": [
        {
          "name": "stderr",
          "output_type": "stream",
          "text": [
            "/usr/local/lib/python3.7/dist-packages/seaborn/distributions.py:2619: FutureWarning: `distplot` is a deprecated function and will be removed in a future version. Please adapt your code to use either `displot` (a figure-level function with similar flexibility) or `histplot` (an axes-level function for histograms).\n",
            "  warnings.warn(msg, FutureWarning)\n"
          ]
        },
        {
          "data": {
            "image/png": "[encoded data removed]",
            "text/plain": [
              "<Figure size 432x288 with 1 Axes>"
            ]
          },
          "metadata": {
            "needs_background": "light"
          },
          "output_type": "display_data"
        }
      ],
      "source": [
        "sns.distplot((y_test-predictions),bins=50);"
      ]
    },
    {
      "cell_type": "markdown",
      "metadata": {
        "id": "fBIArhOrbanE"
      },
      "source": [
        "## Let's see if we can interpret the coefficients at all to get an idea"
      ]
    },
    {
      "cell_type": "code",
      "execution_count": null,
      "metadata": {
        "colab": {
          "base_uri": "https://localhost:8080/",
          "height": 423
        },
        "id": "r-FYOPHYbZaM",
        "outputId": "52e1c51c-a23b-42b8-c1a0-f127ba5058ce"
      },
      "outputs": [
        {
          "data": {
            "text/html": [
              "\n",
              "  <div id=\"df-ec7723b6-84e2-4495-966b-cae9887f5710\">\n",
              "    <div class=\"colab-df-container\">\n",
              "      <div>\n",
              "<style scoped>\n",
              "    .dataframe tbody tr th:only-of-type {\n",
              "        vertical-align: middle;\n",
              "    }\n",
              "\n",
              "    .dataframe tbody tr th {\n",
              "        vertical-align: top;\n",
              "    }\n",
              "\n",
              "    .dataframe thead th {\n",
              "        text-align: right;\n",
              "    }\n",
              "</style>\n",
              "<table border=\"1\" class=\"dataframe\">\n",
              "  <thead>\n",
              "    <tr style=\"text-align: right;\">\n",
              "      <th></th>\n",
              "      <th>Coefficient</th>\n",
              "    </tr>\n",
              "  </thead>\n",
              "  <tbody>\n",
              "    <tr>\n",
              "      <th>Unnamed: 0</th>\n",
              "      <td>6.404897e+03</td>\n",
              "    </tr>\n",
              "    <tr>\n",
              "      <th>km</th>\n",
              "      <td>-1.272158e+03</td>\n",
              "    </tr>\n",
              "    <tr>\n",
              "      <th>hp</th>\n",
              "      <td>2.278661e+03</td>\n",
              "    </tr>\n",
              "    <tr>\n",
              "      <th>Nr. of Doors</th>\n",
              "      <td>2.659887e+02</td>\n",
              "    </tr>\n",
              "    <tr>\n",
              "      <th>Nr. of Seats</th>\n",
              "      <td>-3.064207e+01</td>\n",
              "    </tr>\n",
              "    <tr>\n",
              "      <th>...</th>\n",
              "      <td>...</td>\n",
              "    </tr>\n",
              "    <tr>\n",
              "      <th>Upholstery_Color_Orange</th>\n",
              "      <td>3.807106e+12</td>\n",
              "    </tr>\n",
              "    <tr>\n",
              "      <th>Upholstery_Color_Other</th>\n",
              "      <td>9.738573e+13</td>\n",
              "    </tr>\n",
              "    <tr>\n",
              "      <th>Upholstery_Color_Red</th>\n",
              "      <td>1.076474e+13</td>\n",
              "    </tr>\n",
              "    <tr>\n",
              "      <th>Upholstery_Color_White</th>\n",
              "      <td>1.006994e+13</td>\n",
              "    </tr>\n",
              "    <tr>\n",
              "      <th>Upholstery_Color_Yellow</th>\n",
              "      <td>6.593509e+12</td>\n",
              "    </tr>\n",
              "  </tbody>\n",
              "</table>\n",
              "<p>177 rows × 1 columns</p>\n",
              "</div>\n",
              "      <button class=\"colab-df-convert\" onclick=\"convertToInteractive('df-ec7723b6-84e2-4495-966b-cae9887f5710')\"\n",
              "              title=\"Convert this dataframe to an interactive table.\"\n",
              "              style=\"display:none;\">\n",
              "        \n",
              "  <svg xmlns=\"http://www.w3.org/2000/svg\" height=\"24px\"viewBox=\"0 0 24 24\"\n",
              "       width=\"24px\">\n",
              "    <path d=\"M0 0h24v24H0V0z\" fill=\"none\"/>\n",
              "    <path d=\"M18.56 5.44l.94 2.06.94-2.06 2.06-.94-2.06-.94-.94-2.06-.94 2.06-2.06.94zm-11 1L8.5 8.5l.94-2.06 2.06-.94-2.06-.94L8.5 2.5l-.94 2.06-2.06.94zm10 10l.94 2.06.94-2.06 2.06-.94-2.06-.94-.94-2.06-.94 2.06-2.06.94z\"/><path d=\"M17.41 7.96l-1.37-1.37c-.4-.4-.92-.59-1.43-.59-.52 0-1.04.2-1.43.59L10.3 9.45l-7.72 7.72c-.78.78-.78 2.05 0 2.83L4 21.41c.39.39.9.59 1.41.59.51 0 1.02-.2 1.41-.59l7.78-7.78 2.81-2.81c.8-.78.8-2.07 0-2.86zM5.41 20L4 18.59l7.72-7.72 1.47 1.35L5.41 20z\"/>\n",
              "  </svg>\n",
              "      </button>\n",
              "      \n",
              "  <style>\n",
              "    .colab-df-container {\n",
              "      display:flex;\n",
              "      flex-wrap:wrap;\n",
              "      gap: 12px;\n",
              "    }\n",
              "\n",
              "    .colab-df-convert {\n",
              "      background-color: #E8F0FE;\n",
              "      border: none;\n",
              "      border-radius: 50%;\n",
              "      cursor: pointer;\n",
              "      display: none;\n",
              "      fill: #1967D2;\n",
              "      height: 32px;\n",
              "      padding: 0 0 0 0;\n",
              "      width: 32px;\n",
              "    }\n",
              "\n",
              "    .colab-df-convert:hover {\n",
              "      background-color: #E2EBFA;\n",
              "      box-shadow: 0px 1px 2px rgba(60, 64, 67, 0.3), 0px 1px 3px 1px rgba(60, 64, 67, 0.15);\n",
              "      fill: #174EA6;\n",
              "    }\n",
              "\n",
              "    [theme=dark] .colab-df-convert {\n",
              "      background-color: #3B4455;\n",
              "      fill: #D2E3FC;\n",
              "    }\n",
              "\n",
              "    [theme=dark] .colab-df-convert:hover {\n",
              "      background-color: #434B5C;\n",
              "      box-shadow: 0px 1px 3px 1px rgba(0, 0, 0, 0.15);\n",
              "      filter: drop-shadow(0px 1px 2px rgba(0, 0, 0, 0.3));\n",
              "      fill: #FFFFFF;\n",
              "    }\n",
              "  </style>\n",
              "\n",
              "      <script>\n",
              "        const buttonEl =\n",
              "          document.querySelector('#df-ec7723b6-84e2-4495-966b-cae9887f5710 button.colab-df-convert');\n",
              "        buttonEl.style.display =\n",
              "          google.colab.kernel.accessAllowed ? 'block' : 'none';\n",
              "\n",
              "        async function convertToInteractive(key) {\n",
              "          const element = document.querySelector('#df-ec7723b6-84e2-4495-966b-cae9887f5710');\n",
              "          const dataTable =\n",
              "            await google.colab.kernel.invokeFunction('convertToInteractive',\n",
              "                                                     [key], {});\n",
              "          if (!dataTable) return;\n",
              "\n",
              "          const docLinkHtml = 'Like what you see? Visit the ' +\n",
              "            '<a target=\"_blank\" href=https://colab.research.google.com/notebooks/data_table.ipynb>data table notebook</a>'\n",
              "            + ' to learn more about interactive tables.';\n",
              "          element.innerHTML = '';\n",
              "          dataTable['output_type'] = 'display_data';\n",
              "          await google.colab.output.renderOutput(dataTable, element);\n",
              "          const docLink = document.createElement('div');\n",
              "          docLink.innerHTML = docLinkHtml;\n",
              "          element.appendChild(docLink);\n",
              "        }\n",
              "      </script>\n",
              "    </div>\n",
              "  </div>\n",
              "  "
            ],
            "text/plain": [
              "                          Coefficient\n",
              "Unnamed: 0               6.404897e+03\n",
              "km                      -1.272158e+03\n",
              "hp                       2.278661e+03\n",
              "Nr. of Doors             2.659887e+02\n",
              "Nr. of Seats            -3.064207e+01\n",
              "...                               ...\n",
              "Upholstery_Color_Orange  3.807106e+12\n",
              "Upholstery_Color_Other   9.738573e+13\n",
              "Upholstery_Color_Red     1.076474e+13\n",
              "Upholstery_Color_White   1.006994e+13\n",
              "Upholstery_Color_Yellow  6.593509e+12\n",
              "\n",
              "[177 rows x 1 columns]"
            ]
          },
          "execution_count": 69,
          "metadata": {},
          "output_type": "execute_result"
        }
      ],
      "source": [
        "coefficients = pd.DataFrame(lr.coef_, X.columns, columns=['Coefficient'])\n",
        "coefficients"
      ]
    },
    {
      "cell_type": "markdown",
      "metadata": {
        "id": "VTn6llH03aaQ"
      },
      "source": [
        "##Cross Validate\n",
        "We do cross-validation to check whether the one-time scores we receive are consistent or not\n",
        "\n",
        "cross validation is only applied to the train set."
      ]
    },
    {
      "cell_type": "code",
      "execution_count": 17,
      "metadata": {
        "id": "Cfgk9y6o33yO"
      },
      "outputs": [],
      "source": [
        "from sklearn.model_selection import cross_validate, cross_val_score"
      ]
    },
    {
      "cell_type": "code",
      "execution_count": null,
      "metadata": {
        "id": "JmuFQsNm3k--"
      },
      "outputs": [],
      "source": [
        "model = LinearRegression()\n",
        "scores = cross_validate(model, X_train_scaled, y_train, scoring = ['r2', 'neg_mean_absolute_error','neg_mean_squared_error', \\\n",
        "                                                            'neg_root_mean_squared_error'], cv = 5)"
      ]
    },
    {
      "cell_type": "code",
      "execution_count": null,
      "metadata": {
        "colab": {
          "base_uri": "https://localhost:8080/",
          "height": 206
        },
        "id": "xKZy8LFq3qHp",
        "outputId": "4104f492-b63b-44ed-fb4c-35c2877d6ffd"
      },
      "outputs": [
        {
          "data": {
            "text/html": [
              "\n",
              "  <div id=\"df-af43fd9a-785d-4481-badf-794b5949ff54\">\n",
              "    <div class=\"colab-df-container\">\n",
              "      <div>\n",
              "<style scoped>\n",
              "    .dataframe tbody tr th:only-of-type {\n",
              "        vertical-align: middle;\n",
              "    }\n",
              "\n",
              "    .dataframe tbody tr th {\n",
              "        vertical-align: top;\n",
              "    }\n",
              "\n",
              "    .dataframe thead th {\n",
              "        text-align: right;\n",
              "    }\n",
              "</style>\n",
              "<table border=\"1\" class=\"dataframe\">\n",
              "  <thead>\n",
              "    <tr style=\"text-align: right;\">\n",
              "      <th></th>\n",
              "      <th>fit_time</th>\n",
              "      <th>score_time</th>\n",
              "      <th>test_r2</th>\n",
              "      <th>test_neg_mean_absolute_error</th>\n",
              "      <th>test_neg_mean_squared_error</th>\n",
              "      <th>test_neg_root_mean_squared_error</th>\n",
              "    </tr>\n",
              "  </thead>\n",
              "  <tbody>\n",
              "    <tr>\n",
              "      <th>1</th>\n",
              "      <td>0.112659</td>\n",
              "      <td>0.002829</td>\n",
              "      <td>8.808776e-01</td>\n",
              "      <td>-1.730759e+03</td>\n",
              "      <td>-6.583445e+06</td>\n",
              "      <td>-2.565822e+03</td>\n",
              "    </tr>\n",
              "    <tr>\n",
              "      <th>2</th>\n",
              "      <td>0.145644</td>\n",
              "      <td>0.007921</td>\n",
              "      <td>-6.595616e+22</td>\n",
              "      <td>-7.138401e+13</td>\n",
              "      <td>-3.786155e+30</td>\n",
              "      <td>-1.945804e+15</td>\n",
              "    </tr>\n",
              "    <tr>\n",
              "      <th>3</th>\n",
              "      <td>0.157012</td>\n",
              "      <td>0.002819</td>\n",
              "      <td>-4.067444e+23</td>\n",
              "      <td>-1.730324e+14</td>\n",
              "      <td>-2.224558e+31</td>\n",
              "      <td>-4.716522e+15</td>\n",
              "    </tr>\n",
              "    <tr>\n",
              "      <th>4</th>\n",
              "      <td>0.140909</td>\n",
              "      <td>0.002769</td>\n",
              "      <td>-3.758573e+24</td>\n",
              "      <td>-5.253575e+14</td>\n",
              "      <td>-2.137774e+32</td>\n",
              "      <td>-1.462113e+16</td>\n",
              "    </tr>\n",
              "    <tr>\n",
              "      <th>5</th>\n",
              "      <td>0.155560</td>\n",
              "      <td>0.002760</td>\n",
              "      <td>-2.070784e+24</td>\n",
              "      <td>-3.989225e+14</td>\n",
              "      <td>-1.084268e+32</td>\n",
              "      <td>-1.041282e+16</td>\n",
              "    </tr>\n",
              "  </tbody>\n",
              "</table>\n",
              "</div>\n",
              "      <button class=\"colab-df-convert\" onclick=\"convertToInteractive('df-af43fd9a-785d-4481-badf-794b5949ff54')\"\n",
              "              title=\"Convert this dataframe to an interactive table.\"\n",
              "              style=\"display:none;\">\n",
              "        \n",
              "  <svg xmlns=\"http://www.w3.org/2000/svg\" height=\"24px\"viewBox=\"0 0 24 24\"\n",
              "       width=\"24px\">\n",
              "    <path d=\"M0 0h24v24H0V0z\" fill=\"none\"/>\n",
              "    <path d=\"M18.56 5.44l.94 2.06.94-2.06 2.06-.94-2.06-.94-.94-2.06-.94 2.06-2.06.94zm-11 1L8.5 8.5l.94-2.06 2.06-.94-2.06-.94L8.5 2.5l-.94 2.06-2.06.94zm10 10l.94 2.06.94-2.06 2.06-.94-2.06-.94-.94-2.06-.94 2.06-2.06.94z\"/><path d=\"M17.41 7.96l-1.37-1.37c-.4-.4-.92-.59-1.43-.59-.52 0-1.04.2-1.43.59L10.3 9.45l-7.72 7.72c-.78.78-.78 2.05 0 2.83L4 21.41c.39.39.9.59 1.41.59.51 0 1.02-.2 1.41-.59l7.78-7.78 2.81-2.81c.8-.78.8-2.07 0-2.86zM5.41 20L4 18.59l7.72-7.72 1.47 1.35L5.41 20z\"/>\n",
              "  </svg>\n",
              "      </button>\n",
              "      \n",
              "  <style>\n",
              "    .colab-df-container {\n",
              "      display:flex;\n",
              "      flex-wrap:wrap;\n",
              "      gap: 12px;\n",
              "    }\n",
              "\n",
              "    .colab-df-convert {\n",
              "      background-color: #E8F0FE;\n",
              "      border: none;\n",
              "      border-radius: 50%;\n",
              "      cursor: pointer;\n",
              "      display: none;\n",
              "      fill: #1967D2;\n",
              "      height: 32px;\n",
              "      padding: 0 0 0 0;\n",
              "      width: 32px;\n",
              "    }\n",
              "\n",
              "    .colab-df-convert:hover {\n",
              "      background-color: #E2EBFA;\n",
              "      box-shadow: 0px 1px 2px rgba(60, 64, 67, 0.3), 0px 1px 3px 1px rgba(60, 64, 67, 0.15);\n",
              "      fill: #174EA6;\n",
              "    }\n",
              "\n",
              "    [theme=dark] .colab-df-convert {\n",
              "      background-color: #3B4455;\n",
              "      fill: #D2E3FC;\n",
              "    }\n",
              "\n",
              "    [theme=dark] .colab-df-convert:hover {\n",
              "      background-color: #434B5C;\n",
              "      box-shadow: 0px 1px 3px 1px rgba(0, 0, 0, 0.15);\n",
              "      filter: drop-shadow(0px 1px 2px rgba(0, 0, 0, 0.3));\n",
              "      fill: #FFFFFF;\n",
              "    }\n",
              "  </style>\n",
              "\n",
              "      <script>\n",
              "        const buttonEl =\n",
              "          document.querySelector('#df-af43fd9a-785d-4481-badf-794b5949ff54 button.colab-df-convert');\n",
              "        buttonEl.style.display =\n",
              "          google.colab.kernel.accessAllowed ? 'block' : 'none';\n",
              "\n",
              "        async function convertToInteractive(key) {\n",
              "          const element = document.querySelector('#df-af43fd9a-785d-4481-badf-794b5949ff54');\n",
              "          const dataTable =\n",
              "            await google.colab.kernel.invokeFunction('convertToInteractive',\n",
              "                                                     [key], {});\n",
              "          if (!dataTable) return;\n",
              "\n",
              "          const docLinkHtml = 'Like what you see? Visit the ' +\n",
              "            '<a target=\"_blank\" href=https://colab.research.google.com/notebooks/data_table.ipynb>data table notebook</a>'\n",
              "            + ' to learn more about interactive tables.';\n",
              "          element.innerHTML = '';\n",
              "          dataTable['output_type'] = 'display_data';\n",
              "          await google.colab.output.renderOutput(dataTable, element);\n",
              "          const docLink = document.createElement('div');\n",
              "          docLink.innerHTML = docLinkHtml;\n",
              "          element.appendChild(docLink);\n",
              "        }\n",
              "      </script>\n",
              "    </div>\n",
              "  </div>\n",
              "  "
            ],
            "text/plain": [
              "   fit_time  score_time       test_r2  test_neg_mean_absolute_error  \\\n",
              "1  0.112659    0.002829  8.808776e-01                 -1.730759e+03   \n",
              "2  0.145644    0.007921 -6.595616e+22                 -7.138401e+13   \n",
              "3  0.157012    0.002819 -4.067444e+23                 -1.730324e+14   \n",
              "4  0.140909    0.002769 -3.758573e+24                 -5.253575e+14   \n",
              "5  0.155560    0.002760 -2.070784e+24                 -3.989225e+14   \n",
              "\n",
              "   test_neg_mean_squared_error  test_neg_root_mean_squared_error  \n",
              "1                -6.583445e+06                     -2.565822e+03  \n",
              "2                -3.786155e+30                     -1.945804e+15  \n",
              "3                -2.224558e+31                     -4.716522e+15  \n",
              "4                -2.137774e+32                     -1.462113e+16  \n",
              "5                -1.084268e+32                     -1.041282e+16  "
            ]
          },
          "execution_count": 75,
          "metadata": {},
          "output_type": "execute_result"
        }
      ],
      "source": [
        "pd.DataFrame(scores, index = range(1,6))"
      ]
    },
    {
      "cell_type": "code",
      "execution_count": null,
      "metadata": {
        "colab": {
          "base_uri": "https://localhost:8080/"
        },
        "id": "GMMl7USk3pgx",
        "outputId": "63b69936-bc39-4958-b354-f9ed0a5b65c7"
      },
      "outputs": [
        {
          "data": {
            "text/plain": [
              "test_r2                            -1.260411e+24\n",
              "test_neg_mean_absolute_error       -2.337393e+14\n",
              "test_neg_mean_squared_error        -6.964719e+31\n",
              "test_neg_root_mean_squared_error   -6.339255e+15\n",
              "dtype: float64"
            ]
          },
          "execution_count": 76,
          "metadata": {},
          "output_type": "execute_result"
        }
      ],
      "source": [
        "scores = pd.DataFrame(scores, index=range(1,6))\n",
        "scores.iloc[:, 2:].mean()"
      ]
    },
    {
      "cell_type": "code",
      "execution_count": null,
      "metadata": {
        "colab": {
          "base_uri": "https://localhost:8080/",
          "height": 175
        },
        "id": "xLmAkbKM4L_F",
        "outputId": "44f4b3bb-1ee1-437c-d8c2-501d43f3855f"
      },
      "outputs": [
        {
          "data": {
            "text/html": [
              "\n",
              "  <div id=\"df-fd38497e-c48e-4b06-a256-6ab8d3c5a954\">\n",
              "    <div class=\"colab-df-container\">\n",
              "      <div>\n",
              "<style scoped>\n",
              "    .dataframe tbody tr th:only-of-type {\n",
              "        vertical-align: middle;\n",
              "    }\n",
              "\n",
              "    .dataframe tbody tr th {\n",
              "        vertical-align: top;\n",
              "    }\n",
              "\n",
              "    .dataframe thead th {\n",
              "        text-align: right;\n",
              "    }\n",
              "</style>\n",
              "<table border=\"1\" class=\"dataframe\">\n",
              "  <thead>\n",
              "    <tr style=\"text-align: right;\">\n",
              "      <th></th>\n",
              "      <th>linear_train</th>\n",
              "      <th>linear_test</th>\n",
              "    </tr>\n",
              "  </thead>\n",
              "  <tbody>\n",
              "    <tr>\n",
              "      <th>R2</th>\n",
              "      <td>8.922155e-01</td>\n",
              "      <td>-1.178043e+18</td>\n",
              "    </tr>\n",
              "    <tr>\n",
              "      <th>mae</th>\n",
              "      <td>1.672260e+03</td>\n",
              "      <td>1.140338e+11</td>\n",
              "    </tr>\n",
              "    <tr>\n",
              "      <th>mse</th>\n",
              "      <td>5.963444e+06</td>\n",
              "      <td>6.210570e+25</td>\n",
              "    </tr>\n",
              "    <tr>\n",
              "      <th>rmse</th>\n",
              "      <td>2.442016e+03</td>\n",
              "      <td>7.880717e+12</td>\n",
              "    </tr>\n",
              "  </tbody>\n",
              "</table>\n",
              "</div>\n",
              "      <button class=\"colab-df-convert\" onclick=\"convertToInteractive('df-fd38497e-c48e-4b06-a256-6ab8d3c5a954')\"\n",
              "              title=\"Convert this dataframe to an interactive table.\"\n",
              "              style=\"display:none;\">\n",
              "        \n",
              "  <svg xmlns=\"http://www.w3.org/2000/svg\" height=\"24px\"viewBox=\"0 0 24 24\"\n",
              "       width=\"24px\">\n",
              "    <path d=\"M0 0h24v24H0V0z\" fill=\"none\"/>\n",
              "    <path d=\"M18.56 5.44l.94 2.06.94-2.06 2.06-.94-2.06-.94-.94-2.06-.94 2.06-2.06.94zm-11 1L8.5 8.5l.94-2.06 2.06-.94-2.06-.94L8.5 2.5l-.94 2.06-2.06.94zm10 10l.94 2.06.94-2.06 2.06-.94-2.06-.94-.94-2.06-.94 2.06-2.06.94z\"/><path d=\"M17.41 7.96l-1.37-1.37c-.4-.4-.92-.59-1.43-.59-.52 0-1.04.2-1.43.59L10.3 9.45l-7.72 7.72c-.78.78-.78 2.05 0 2.83L4 21.41c.39.39.9.59 1.41.59.51 0 1.02-.2 1.41-.59l7.78-7.78 2.81-2.81c.8-.78.8-2.07 0-2.86zM5.41 20L4 18.59l7.72-7.72 1.47 1.35L5.41 20z\"/>\n",
              "  </svg>\n",
              "      </button>\n",
              "      \n",
              "  <style>\n",
              "    .colab-df-container {\n",
              "      display:flex;\n",
              "      flex-wrap:wrap;\n",
              "      gap: 12px;\n",
              "    }\n",
              "\n",
              "    .colab-df-convert {\n",
              "      background-color: #E8F0FE;\n",
              "      border: none;\n",
              "      border-radius: 50%;\n",
              "      cursor: pointer;\n",
              "      display: none;\n",
              "      fill: #1967D2;\n",
              "      height: 32px;\n",
              "      padding: 0 0 0 0;\n",
              "      width: 32px;\n",
              "    }\n",
              "\n",
              "    .colab-df-convert:hover {\n",
              "      background-color: #E2EBFA;\n",
              "      box-shadow: 0px 1px 2px rgba(60, 64, 67, 0.3), 0px 1px 3px 1px rgba(60, 64, 67, 0.15);\n",
              "      fill: #174EA6;\n",
              "    }\n",
              "\n",
              "    [theme=dark] .colab-df-convert {\n",
              "      background-color: #3B4455;\n",
              "      fill: #D2E3FC;\n",
              "    }\n",
              "\n",
              "    [theme=dark] .colab-df-convert:hover {\n",
              "      background-color: #434B5C;\n",
              "      box-shadow: 0px 1px 3px 1px rgba(0, 0, 0, 0.15);\n",
              "      filter: drop-shadow(0px 1px 2px rgba(0, 0, 0, 0.3));\n",
              "      fill: #FFFFFF;\n",
              "    }\n",
              "  </style>\n",
              "\n",
              "      <script>\n",
              "        const buttonEl =\n",
              "          document.querySelector('#df-fd38497e-c48e-4b06-a256-6ab8d3c5a954 button.colab-df-convert');\n",
              "        buttonEl.style.display =\n",
              "          google.colab.kernel.accessAllowed ? 'block' : 'none';\n",
              "\n",
              "        async function convertToInteractive(key) {\n",
              "          const element = document.querySelector('#df-fd38497e-c48e-4b06-a256-6ab8d3c5a954');\n",
              "          const dataTable =\n",
              "            await google.colab.kernel.invokeFunction('convertToInteractive',\n",
              "                                                     [key], {});\n",
              "          if (!dataTable) return;\n",
              "\n",
              "          const docLinkHtml = 'Like what you see? Visit the ' +\n",
              "            '<a target=\"_blank\" href=https://colab.research.google.com/notebooks/data_table.ipynb>data table notebook</a>'\n",
              "            + ' to learn more about interactive tables.';\n",
              "          element.innerHTML = '';\n",
              "          dataTable['output_type'] = 'display_data';\n",
              "          await google.colab.output.renderOutput(dataTable, element);\n",
              "          const docLink = document.createElement('div');\n",
              "          docLink.innerHTML = docLinkHtml;\n",
              "          element.appendChild(docLink);\n",
              "        }\n",
              "      </script>\n",
              "    </div>\n",
              "  </div>\n",
              "  "
            ],
            "text/plain": [
              "      linear_train   linear_test\n",
              "R2    8.922155e-01 -1.178043e+18\n",
              "mae   1.672260e+03  1.140338e+11\n",
              "mse   5.963444e+06  6.210570e+25\n",
              "rmse  2.442016e+03  7.880717e+12"
            ]
          },
          "execution_count": 77,
          "metadata": {},
          "output_type": "execute_result"
        }
      ],
      "source": [
        "train_val(y_train, y_train_pred, y_test, y_pred, \"linear\")"
      ]
    },
    {
      "cell_type": "code",
      "execution_count": null,
      "metadata": {
        "colab": {
          "base_uri": "https://localhost:8080/",
          "height": 276
        },
        "id": "hNOj6kqJ4Ohe",
        "outputId": "3e0db635-4fca-468e-d2a5-b25677a12c92"
      },
      "outputs": [
        {
          "data": {
            "image/png": "[encoded data removed]",
            "text/plain": [
              "<Figure size 432x288 with 1 Axes>"
            ]
          },
          "metadata": {
            "needs_background": "light"
          },
          "output_type": "display_data"
        }
      ],
      "source": [
        "sns.lineplot(data = scores.iloc[:,2:]);"
      ]
    },
    {
      "cell_type": "markdown",
      "metadata": {
        "id": "ngfv0b5vbnO6"
      },
      "source": [
        "# Regularization"
      ]
    },
    {
      "cell_type": "markdown",
      "metadata": {
        "id": "PbnRHneJbV9T"
      },
      "source": [
        "# Ridge"
      ]
    },
    {
      "cell_type": "markdown",
      "metadata": {
        "id": "rgI0XM2jcJc3"
      },
      "source": [
        "###Ridge and lasso and elastic-net regression are a model tuning method that is used to analyse any data that suffers from multicollinearity, underfiting and overfiting"
      ]
    },
    {
      "cell_type": "code",
      "execution_count": 43,
      "metadata": {
        "id": "sLbDL68AbV9V"
      },
      "outputs": [],
      "source": [
        "from sklearn.linear_model import Ridge"
      ]
    },
    {
      "cell_type": "code",
      "execution_count": 57,
      "metadata": {
        "id": "0fdNxdu7cGjS"
      },
      "outputs": [],
      "source": [
        "ridge = Ridge( random_state=42, max_iter= 200000,)\n",
        "#ridge_model = Ridge(alpha=1, random_state=42)"
      ]
    },
    {
      "cell_type": "code",
      "execution_count": 96,
      "metadata": {
        "id": "XcTL6eKDDplH"
      },
      "outputs": [],
      "source": [
        "from sklearn.model_selection import GridSearchCV"
      ]
    },
    {
      "cell_type": "code",
      "execution_count": 97,
      "metadata": {
        "id": "EtBlY76WLuE-"
      },
      "outputs": [],
      "source": [
        "alphas= np.logspace(-4,-0.5,30)"
      ]
    },
    {
      "cell_type": "code",
      "execution_count": 101,
      "metadata": {
        "colab": {
          "base_uri": "https://localhost:8080/"
        },
        "id": "bWdHM7tTeiKE",
        "outputId": "64140c1f-06d0-4007-e7ae-4708b49a4168"
      },
      "outputs": [
        {
          "data": {
            "text/plain": [
              "array([1.00000000e-04, 1.32035178e-04, 1.74332882e-04, 2.30180731e-04,\n",
              "       3.03919538e-04, 4.01280703e-04, 5.29831691e-04, 6.99564216e-04,\n",
              "       9.23670857e-04, 1.21957046e-03, 1.61026203e-03, 2.12611233e-03,\n",
              "       2.80721620e-03, 3.70651291e-03, 4.89390092e-03, 6.46167079e-03,\n",
              "       8.53167852e-03, 1.12648169e-02, 1.48735211e-02, 1.96382800e-02,\n",
              "       2.59294380e-02, 3.42359796e-02, 4.52035366e-02, 5.96845700e-02,\n",
              "       7.88046282e-02, 1.04049831e-01, 1.37382380e-01, 1.81393069e-01,\n",
              "       2.39502662e-01, 3.16227766e-01])"
            ]
          },
          "execution_count": 101,
          "metadata": {},
          "output_type": "execute_result"
        }
      ],
      "source": [
        "alphas"
      ]
    },
    {
      "cell_type": "code",
      "execution_count": 105,
      "metadata": {
        "id": "2OFQcSLYL9qt"
      },
      "outputs": [],
      "source": [
        "tuned_parameters= {'alpha':alphas}\n",
        "n_folds=5"
      ]
    },
    {
      "cell_type": "code",
      "execution_count": 106,
      "metadata": {
        "id": "Hd9lT4m3MMJr"
      },
      "outputs": [],
      "source": [
        "clf=GridSearchCV(estimator=ridge, param_grid=tuned_parameters, cv=n_folds, scoring=\"neg_mean_squared_error\", refit=True)\n"
      ]
    },
    {
      "cell_type": "code",
      "execution_count": 107,
      "metadata": {
        "colab": {
          "base_uri": "https://localhost:8080/"
        },
        "id": "CsDyYnLQEfEt",
        "outputId": "81be5607-63ff-4773-fc28-5bee1bc801cb"
      },
      "outputs": [
        {
          "data": {
            "text/plain": [
              "GridSearchCV(cv=5, estimator=Ridge(max_iter=200000, random_state=42),\n",
              "             param_grid={'alpha': array([1.00000000e-04, 1.32035178e-04, 1.74332882e-04, 2.30180731e-04,\n",
              "       3.03919538e-04, 4.01280703e-04, 5.29831691e-04, 6.99564216e-04,\n",
              "       9.23670857e-04, 1.21957046e-03, 1.61026203e-03, 2.12611233e-03,\n",
              "       2.80721620e-03, 3.70651291e-03, 4.89390092e-03, 6.46167079e-03,\n",
              "       8.53167852e-03, 1.12648169e-02, 1.48735211e-02, 1.96382800e-02,\n",
              "       2.59294380e-02, 3.42359796e-02, 4.52035366e-02, 5.96845700e-02,\n",
              "       7.88046282e-02, 1.04049831e-01, 1.37382380e-01, 1.81393069e-01,\n",
              "       2.39502662e-01, 3.16227766e-01])},\n",
              "             scoring='neg_mean_squared_error')"
            ]
          },
          "execution_count": 107,
          "metadata": {},
          "output_type": "execute_result"
        }
      ],
      "source": [
        "clf.fit(X_train_scaled, y_train)"
      ]
    },
    {
      "cell_type": "code",
      "execution_count": 108,
      "metadata": {
        "id": "A7GjezL6AVeB"
      },
      "outputs": [],
      "source": [
        "scores=clf.cv_results_[\"mean_test_score\"]\n",
        "scores_std=clf.cv_results_[\"std_test_score\"]"
      ]
    },
    {
      "cell_type": "code",
      "execution_count": 111,
      "metadata": {
        "colab": {
          "base_uri": "https://localhost:8080/"
        },
        "id": "NOUD5iQyMf1w",
        "outputId": "20aeb845-1bdf-4896-efc1-a126e581d9a1"
      },
      "outputs": [
        {
          "name": "stdout",
          "output_type": "stream",
          "text": [
            "Ridge Coeff:  Ridge(alpha=0.31622776601683794, max_iter=200000, random_state=42)\n"
          ]
        }
      ],
      "source": [
        "print(\"Ridge Coeff: \", clf.best_estimator_)"
      ]
    },
    {
      "cell_type": "code",
      "execution_count": 112,
      "metadata": {
        "colab": {
          "base_uri": "https://localhost:8080/"
        },
        "id": "oY6BGMWRBOQv",
        "outputId": "fd4a4c4c-7952-46e1-c82b-7ff5101c6ff2"
      },
      "outputs": [
        {
          "name": "stdout",
          "output_type": "stream",
          "text": [
            "Ridge best Estimator:  Ridge(alpha=0.31622776601683794, max_iter=200000, random_state=42)\n"
          ]
        }
      ],
      "source": [
        "ridge=clf.best_estimator_\n",
        "print(\"Ridge best Estimator: \", ridge)"
      ]
    },
    {
      "cell_type": "code",
      "execution_count": 113,
      "metadata": {
        "id": "84giO-aeBguv"
      },
      "outputs": [],
      "source": [
        "y_pred=clf.predict(X_test_scaled)\n",
        "mse=mean_squared_error(y_test, y_pred)"
      ]
    },
    {
      "cell_type": "code",
      "execution_count": null,
      "metadata": {
        "id": "TEPDMNb84vEq"
      },
      "outputs": [],
      "source": [
        "#y_pred = ridge_model.predict(X_test_scaled)\n",
        "#y_train_pred = ridge_model.predict(X_train_scaled)"
      ]
    },
    {
      "cell_type": "code",
      "execution_count": 117,
      "metadata": {
        "colab": {
          "base_uri": "https://localhost:8080/",
          "height": 175
        },
        "id": "OWihTXd34x_k",
        "outputId": "bb6f0c24-513f-4f7d-a22c-910a2e63d211"
      },
      "outputs": [
        {
          "data": {
            "text/html": [
              "\n",
              "  <div id=\"df-dffeca20-a113-4e70-b736-730789f14fd7\">\n",
              "    <div class=\"colab-df-container\">\n",
              "      <div>\n",
              "<style scoped>\n",
              "    .dataframe tbody tr th:only-of-type {\n",
              "        vertical-align: middle;\n",
              "    }\n",
              "\n",
              "    .dataframe tbody tr th {\n",
              "        vertical-align: top;\n",
              "    }\n",
              "\n",
              "    .dataframe thead th {\n",
              "        text-align: right;\n",
              "    }\n",
              "</style>\n",
              "<table border=\"1\" class=\"dataframe\">\n",
              "  <thead>\n",
              "    <tr style=\"text-align: right;\">\n",
              "      <th></th>\n",
              "      <th>ridge_train</th>\n",
              "      <th>ridge_test</th>\n",
              "    </tr>\n",
              "  </thead>\n",
              "  <tbody>\n",
              "    <tr>\n",
              "      <th>R2</th>\n",
              "      <td>0.888</td>\n",
              "      <td>0.877</td>\n",
              "    </tr>\n",
              "    <tr>\n",
              "      <th>mae</th>\n",
              "      <td>1727.292</td>\n",
              "      <td>1795.392</td>\n",
              "    </tr>\n",
              "    <tr>\n",
              "      <th>mse</th>\n",
              "      <td>6187216.769</td>\n",
              "      <td>6490603.769</td>\n",
              "    </tr>\n",
              "    <tr>\n",
              "      <th>rmse</th>\n",
              "      <td>2487.412</td>\n",
              "      <td>2547.666</td>\n",
              "    </tr>\n",
              "  </tbody>\n",
              "</table>\n",
              "</div>\n",
              "      <button class=\"colab-df-convert\" onclick=\"convertToInteractive('df-dffeca20-a113-4e70-b736-730789f14fd7')\"\n",
              "              title=\"Convert this dataframe to an interactive table.\"\n",
              "              style=\"display:none;\">\n",
              "        \n",
              "  <svg xmlns=\"http://www.w3.org/2000/svg\" height=\"24px\"viewBox=\"0 0 24 24\"\n",
              "       width=\"24px\">\n",
              "    <path d=\"M0 0h24v24H0V0z\" fill=\"none\"/>\n",
              "    <path d=\"M18.56 5.44l.94 2.06.94-2.06 2.06-.94-2.06-.94-.94-2.06-.94 2.06-2.06.94zm-11 1L8.5 8.5l.94-2.06 2.06-.94-2.06-.94L8.5 2.5l-.94 2.06-2.06.94zm10 10l.94 2.06.94-2.06 2.06-.94-2.06-.94-.94-2.06-.94 2.06-2.06.94z\"/><path d=\"M17.41 7.96l-1.37-1.37c-.4-.4-.92-.59-1.43-.59-.52 0-1.04.2-1.43.59L10.3 9.45l-7.72 7.72c-.78.78-.78 2.05 0 2.83L4 21.41c.39.39.9.59 1.41.59.51 0 1.02-.2 1.41-.59l7.78-7.78 2.81-2.81c.8-.78.8-2.07 0-2.86zM5.41 20L4 18.59l7.72-7.72 1.47 1.35L5.41 20z\"/>\n",
              "  </svg>\n",
              "      </button>\n",
              "      \n",
              "  <style>\n",
              "    .colab-df-container {\n",
              "      display:flex;\n",
              "      flex-wrap:wrap;\n",
              "      gap: 12px;\n",
              "    }\n",
              "\n",
              "    .colab-df-convert {\n",
              "      background-color: #E8F0FE;\n",
              "      border: none;\n",
              "      border-radius: 50%;\n",
              "      cursor: pointer;\n",
              "      display: none;\n",
              "      fill: #1967D2;\n",
              "      height: 32px;\n",
              "      padding: 0 0 0 0;\n",
              "      width: 32px;\n",
              "    }\n",
              "\n",
              "    .colab-df-convert:hover {\n",
              "      background-color: #E2EBFA;\n",
              "      box-shadow: 0px 1px 2px rgba(60, 64, 67, 0.3), 0px 1px 3px 1px rgba(60, 64, 67, 0.15);\n",
              "      fill: #174EA6;\n",
              "    }\n",
              "\n",
              "    [theme=dark] .colab-df-convert {\n",
              "      background-color: #3B4455;\n",
              "      fill: #D2E3FC;\n",
              "    }\n",
              "\n",
              "    [theme=dark] .colab-df-convert:hover {\n",
              "      background-color: #434B5C;\n",
              "      box-shadow: 0px 1px 3px 1px rgba(0, 0, 0, 0.15);\n",
              "      filter: drop-shadow(0px 1px 2px rgba(0, 0, 0, 0.3));\n",
              "      fill: #FFFFFF;\n",
              "    }\n",
              "  </style>\n",
              "\n",
              "      <script>\n",
              "        const buttonEl =\n",
              "          document.querySelector('#df-dffeca20-a113-4e70-b736-730789f14fd7 button.colab-df-convert');\n",
              "        buttonEl.style.display =\n",
              "          google.colab.kernel.accessAllowed ? 'block' : 'none';\n",
              "\n",
              "        async function convertToInteractive(key) {\n",
              "          const element = document.querySelector('#df-dffeca20-a113-4e70-b736-730789f14fd7');\n",
              "          const dataTable =\n",
              "            await google.colab.kernel.invokeFunction('convertToInteractive',\n",
              "                                                     [key], {});\n",
              "          if (!dataTable) return;\n",
              "\n",
              "          const docLinkHtml = 'Like what you see? Visit the ' +\n",
              "            '<a target=\"_blank\" href=https://colab.research.google.com/notebooks/data_table.ipynb>data table notebook</a>'\n",
              "            + ' to learn more about interactive tables.';\n",
              "          element.innerHTML = '';\n",
              "          dataTable['output_type'] = 'display_data';\n",
              "          await google.colab.output.renderOutput(dataTable, element);\n",
              "          const docLink = document.createElement('div');\n",
              "          docLink.innerHTML = docLinkHtml;\n",
              "          element.appendChild(docLink);\n",
              "        }\n",
              "      </script>\n",
              "    </div>\n",
              "  </div>\n",
              "  "
            ],
            "text/plain": [
              "      ridge_train  ridge_test\n",
              "R2          0.888       0.877\n",
              "mae      1727.292    1795.392\n",
              "mse   6187216.769 6490603.769\n",
              "rmse     2487.412    2547.666"
            ]
          },
          "execution_count": 117,
          "metadata": {},
          "output_type": "execute_result"
        }
      ],
      "source": [
        "rs = train_val(y_train, y_train_pred, y_test, y_pred, \"ridge\")\n",
        "rs"
      ]
    },
    {
      "cell_type": "code",
      "execution_count": null,
      "metadata": {
        "id": "T19Nz3wjgWkF"
      },
      "outputs": [],
      "source": [
        "pd.options.display.float_format = '{:.3f}'.format"
      ]
    },
    {
      "cell_type": "code",
      "execution_count": null,
      "metadata": {
        "id": "CQhDNBIK41rd"
      },
      "outputs": [],
      "source": [
        "pd.concat([ls, rs], axis=1)"
      ]
    },
    {
      "cell_type": "code",
      "execution_count": null,
      "metadata": {
        "id": "g_K7r8ALfzYI"
      },
      "outputs": [],
      "source": []
    },
    {
      "cell_type": "markdown",
      "metadata": {
        "id": "7EWwNnwm5FhG"
      },
      "source": [
        "For Ridge Regression CV with alpha : 1"
      ]
    },
    {
      "cell_type": "code",
      "execution_count": null,
      "metadata": {
        "id": "RS4OSTJh5FP-"
      },
      "outputs": [],
      "source": [
        "model = Ridge(alpha=1, random_state=42)\n",
        "scores = cross_validate(model, X_train_scaled, y_train,\n",
        "                    scoring=['r2', 'neg_mean_absolute_error','neg_mean_squared_error','neg_root_mean_squared_error'], cv=5)"
      ]
    },
    {
      "cell_type": "code",
      "execution_count": null,
      "metadata": {
        "id": "XAL_rliO5Jz5"
      },
      "outputs": [],
      "source": [
        "pd.DataFrame(scores, index = range(1, 6))"
      ]
    },
    {
      "cell_type": "code",
      "execution_count": 116,
      "metadata": {
        "colab": {
          "base_uri": "https://localhost:8080/",
          "height": 433
        },
        "id": "8bsKTGlh5MC5",
        "outputId": "b31958db-d651-4f1f-9313-1ea977b91097"
      },
      "outputs": [
        {
          "ename": "ValueError",
          "evalue": "ignored",
          "output_type": "error",
          "traceback": [
            "\u001b[0;31m---------------------------------------------------------------------------\u001b[0m",
            "\u001b[0;31mValueError\u001b[0m                                Traceback (most recent call last)",
            "\u001b[0;32m/usr/local/lib/python3.7/dist-packages/pandas/core/internals/managers.py\u001b[0m in \u001b[0;36mcreate_block_manager_from_blocks\u001b[0;34m(blocks, axes)\u001b[0m\n\u001b[1;32m   1673\u001b[0m \u001b[0;34m\u001b[0m\u001b[0m\n\u001b[0;32m-> 1674\u001b[0;31m         \u001b[0mmgr\u001b[0m \u001b[0;34m=\u001b[0m \u001b[0mBlockManager\u001b[0m\u001b[0;34m(\u001b[0m\u001b[0mblocks\u001b[0m\u001b[0;34m,\u001b[0m \u001b[0maxes\u001b[0m\u001b[0;34m)\u001b[0m\u001b[0;34m\u001b[0m\u001b[0;34m\u001b[0m\u001b[0m\n\u001b[0m\u001b[1;32m   1675\u001b[0m         \u001b[0mmgr\u001b[0m\u001b[0;34m.\u001b[0m\u001b[0m_consolidate_inplace\u001b[0m\u001b[0;34m(\u001b[0m\u001b[0;34m)\u001b[0m\u001b[0;34m\u001b[0m\u001b[0;34m\u001b[0m\u001b[0m\n",
            "\u001b[0;32m/usr/local/lib/python3.7/dist-packages/pandas/core/internals/managers.py\u001b[0m in \u001b[0;36m__init__\u001b[0;34m(self, blocks, axes, do_integrity_check)\u001b[0m\n\u001b[1;32m    148\u001b[0m         \u001b[0;32mif\u001b[0m \u001b[0mdo_integrity_check\u001b[0m\u001b[0;34m:\u001b[0m\u001b[0;34m\u001b[0m\u001b[0;34m\u001b[0m\u001b[0m\n\u001b[0;32m--> 149\u001b[0;31m             \u001b[0mself\u001b[0m\u001b[0;34m.\u001b[0m\u001b[0m_verify_integrity\u001b[0m\u001b[0;34m(\u001b[0m\u001b[0;34m)\u001b[0m\u001b[0;34m\u001b[0m\u001b[0;34m\u001b[0m\u001b[0m\n\u001b[0m\u001b[1;32m    150\u001b[0m \u001b[0;34m\u001b[0m\u001b[0m\n",
            "\u001b[0;32m/usr/local/lib/python3.7/dist-packages/pandas/core/internals/managers.py\u001b[0m in \u001b[0;36m_verify_integrity\u001b[0;34m(self)\u001b[0m\n\u001b[1;32m    328\u001b[0m             \u001b[0;32mif\u001b[0m \u001b[0mblock\u001b[0m\u001b[0;34m.\u001b[0m\u001b[0mshape\u001b[0m\u001b[0;34m[\u001b[0m\u001b[0;36m1\u001b[0m\u001b[0;34m:\u001b[0m\u001b[0;34m]\u001b[0m \u001b[0;34m!=\u001b[0m \u001b[0mmgr_shape\u001b[0m\u001b[0;34m[\u001b[0m\u001b[0;36m1\u001b[0m\u001b[0;34m:\u001b[0m\u001b[0;34m]\u001b[0m\u001b[0;34m:\u001b[0m\u001b[0;34m\u001b[0m\u001b[0;34m\u001b[0m\u001b[0m\n\u001b[0;32m--> 329\u001b[0;31m                 \u001b[0;32mraise\u001b[0m \u001b[0mconstruction_error\u001b[0m\u001b[0;34m(\u001b[0m\u001b[0mtot_items\u001b[0m\u001b[0;34m,\u001b[0m \u001b[0mblock\u001b[0m\u001b[0;34m.\u001b[0m\u001b[0mshape\u001b[0m\u001b[0;34m[\u001b[0m\u001b[0;36m1\u001b[0m\u001b[0;34m:\u001b[0m\u001b[0;34m]\u001b[0m\u001b[0;34m,\u001b[0m \u001b[0mself\u001b[0m\u001b[0;34m.\u001b[0m\u001b[0maxes\u001b[0m\u001b[0;34m)\u001b[0m\u001b[0;34m\u001b[0m\u001b[0;34m\u001b[0m\u001b[0m\n\u001b[0m\u001b[1;32m    330\u001b[0m         \u001b[0;32mif\u001b[0m \u001b[0mlen\u001b[0m\u001b[0;34m(\u001b[0m\u001b[0mself\u001b[0m\u001b[0;34m.\u001b[0m\u001b[0mitems\u001b[0m\u001b[0;34m)\u001b[0m \u001b[0;34m!=\u001b[0m \u001b[0mtot_items\u001b[0m\u001b[0;34m:\u001b[0m\u001b[0;34m\u001b[0m\u001b[0;34m\u001b[0m\u001b[0m\n",
            "\u001b[0;31mValueError\u001b[0m: Shape of passed values is (30, 1), indices imply (5, 1)",
            "\nDuring handling of the above exception, another exception occurred:\n",
            "\u001b[0;31mValueError\u001b[0m                                Traceback (most recent call last)",
            "\u001b[0;32m<ipython-input-116-653d349bb912>\u001b[0m in \u001b[0;36m<module>\u001b[0;34m()\u001b[0m\n\u001b[0;32m----> 1\u001b[0;31m \u001b[0mscores\u001b[0m \u001b[0;34m=\u001b[0m \u001b[0mpd\u001b[0m\u001b[0;34m.\u001b[0m\u001b[0mDataFrame\u001b[0m\u001b[0;34m(\u001b[0m\u001b[0mscores\u001b[0m\u001b[0;34m,\u001b[0m \u001b[0mindex\u001b[0m \u001b[0;34m=\u001b[0m \u001b[0mrange\u001b[0m\u001b[0;34m(\u001b[0m\u001b[0;36m1\u001b[0m\u001b[0;34m,\u001b[0m \u001b[0;36m6\u001b[0m\u001b[0;34m)\u001b[0m\u001b[0;34m)\u001b[0m\u001b[0;34m\u001b[0m\u001b[0;34m\u001b[0m\u001b[0m\n\u001b[0m\u001b[1;32m      2\u001b[0m \u001b[0mscores\u001b[0m\u001b[0;34m.\u001b[0m\u001b[0miloc\u001b[0m\u001b[0;34m[\u001b[0m\u001b[0;34m:\u001b[0m\u001b[0;34m,\u001b[0m\u001b[0;36m2\u001b[0m\u001b[0;34m:\u001b[0m\u001b[0;34m]\u001b[0m\u001b[0;34m.\u001b[0m\u001b[0mmean\u001b[0m\u001b[0;34m(\u001b[0m\u001b[0;34m)\u001b[0m\u001b[0;34m\u001b[0m\u001b[0;34m\u001b[0m\u001b[0m\n",
            "\u001b[0;32m/usr/local/lib/python3.7/dist-packages/pandas/core/frame.py\u001b[0m in \u001b[0;36m__init__\u001b[0;34m(self, data, index, columns, dtype, copy)\u001b[0m\n\u001b[1;32m    495\u001b[0m                 \u001b[0mmgr\u001b[0m \u001b[0;34m=\u001b[0m \u001b[0minit_dict\u001b[0m\u001b[0;34m(\u001b[0m\u001b[0;34m{\u001b[0m\u001b[0mdata\u001b[0m\u001b[0;34m.\u001b[0m\u001b[0mname\u001b[0m\u001b[0;34m:\u001b[0m \u001b[0mdata\u001b[0m\u001b[0;34m}\u001b[0m\u001b[0;34m,\u001b[0m \u001b[0mindex\u001b[0m\u001b[0;34m,\u001b[0m \u001b[0mcolumns\u001b[0m\u001b[0;34m,\u001b[0m \u001b[0mdtype\u001b[0m\u001b[0;34m=\u001b[0m\u001b[0mdtype\u001b[0m\u001b[0;34m)\u001b[0m\u001b[0;34m\u001b[0m\u001b[0;34m\u001b[0m\u001b[0m\n\u001b[1;32m    496\u001b[0m             \u001b[0;32melse\u001b[0m\u001b[0;34m:\u001b[0m\u001b[0;34m\u001b[0m\u001b[0;34m\u001b[0m\u001b[0m\n\u001b[0;32m--> 497\u001b[0;31m                 \u001b[0mmgr\u001b[0m \u001b[0;34m=\u001b[0m \u001b[0minit_ndarray\u001b[0m\u001b[0;34m(\u001b[0m\u001b[0mdata\u001b[0m\u001b[0;34m,\u001b[0m \u001b[0mindex\u001b[0m\u001b[0;34m,\u001b[0m \u001b[0mcolumns\u001b[0m\u001b[0;34m,\u001b[0m \u001b[0mdtype\u001b[0m\u001b[0;34m=\u001b[0m\u001b[0mdtype\u001b[0m\u001b[0;34m,\u001b[0m \u001b[0mcopy\u001b[0m\u001b[0;34m=\u001b[0m\u001b[0mcopy\u001b[0m\u001b[0;34m)\u001b[0m\u001b[0;34m\u001b[0m\u001b[0;34m\u001b[0m\u001b[0m\n\u001b[0m\u001b[1;32m    498\u001b[0m \u001b[0;34m\u001b[0m\u001b[0m\n\u001b[1;32m    499\u001b[0m         \u001b[0;31m# For data is list-like, or Iterable (will consume into list)\u001b[0m\u001b[0;34m\u001b[0m\u001b[0;34m\u001b[0m\u001b[0;34m\u001b[0m\u001b[0m\n",
            "\u001b[0;32m/usr/local/lib/python3.7/dist-packages/pandas/core/internals/construction.py\u001b[0m in \u001b[0;36minit_ndarray\u001b[0;34m(values, index, columns, dtype, copy)\u001b[0m\n\u001b[1;32m    232\u001b[0m         \u001b[0mblock_values\u001b[0m \u001b[0;34m=\u001b[0m \u001b[0;34m[\u001b[0m\u001b[0mvalues\u001b[0m\u001b[0;34m]\u001b[0m\u001b[0;34m\u001b[0m\u001b[0;34m\u001b[0m\u001b[0m\n\u001b[1;32m    233\u001b[0m \u001b[0;34m\u001b[0m\u001b[0m\n\u001b[0;32m--> 234\u001b[0;31m     \u001b[0;32mreturn\u001b[0m \u001b[0mcreate_block_manager_from_blocks\u001b[0m\u001b[0;34m(\u001b[0m\u001b[0mblock_values\u001b[0m\u001b[0;34m,\u001b[0m \u001b[0;34m[\u001b[0m\u001b[0mcolumns\u001b[0m\u001b[0;34m,\u001b[0m \u001b[0mindex\u001b[0m\u001b[0;34m]\u001b[0m\u001b[0;34m)\u001b[0m\u001b[0;34m\u001b[0m\u001b[0;34m\u001b[0m\u001b[0m\n\u001b[0m\u001b[1;32m    235\u001b[0m \u001b[0;34m\u001b[0m\u001b[0m\n\u001b[1;32m    236\u001b[0m \u001b[0;34m\u001b[0m\u001b[0m\n",
            "\u001b[0;32m/usr/local/lib/python3.7/dist-packages/pandas/core/internals/managers.py\u001b[0m in \u001b[0;36mcreate_block_manager_from_blocks\u001b[0;34m(blocks, axes)\u001b[0m\n\u001b[1;32m   1679\u001b[0m         \u001b[0mblocks\u001b[0m \u001b[0;34m=\u001b[0m \u001b[0;34m[\u001b[0m\u001b[0mgetattr\u001b[0m\u001b[0;34m(\u001b[0m\u001b[0mb\u001b[0m\u001b[0;34m,\u001b[0m \u001b[0;34m\"values\"\u001b[0m\u001b[0;34m,\u001b[0m \u001b[0mb\u001b[0m\u001b[0;34m)\u001b[0m \u001b[0;32mfor\u001b[0m \u001b[0mb\u001b[0m \u001b[0;32min\u001b[0m \u001b[0mblocks\u001b[0m\u001b[0;34m]\u001b[0m\u001b[0;34m\u001b[0m\u001b[0;34m\u001b[0m\u001b[0m\n\u001b[1;32m   1680\u001b[0m         \u001b[0mtot_items\u001b[0m \u001b[0;34m=\u001b[0m \u001b[0msum\u001b[0m\u001b[0;34m(\u001b[0m\u001b[0mb\u001b[0m\u001b[0;34m.\u001b[0m\u001b[0mshape\u001b[0m\u001b[0;34m[\u001b[0m\u001b[0;36m0\u001b[0m\u001b[0;34m]\u001b[0m \u001b[0;32mfor\u001b[0m \u001b[0mb\u001b[0m \u001b[0;32min\u001b[0m \u001b[0mblocks\u001b[0m\u001b[0;34m)\u001b[0m\u001b[0;34m\u001b[0m\u001b[0;34m\u001b[0m\u001b[0m\n\u001b[0;32m-> 1681\u001b[0;31m         \u001b[0;32mraise\u001b[0m \u001b[0mconstruction_error\u001b[0m\u001b[0;34m(\u001b[0m\u001b[0mtot_items\u001b[0m\u001b[0;34m,\u001b[0m \u001b[0mblocks\u001b[0m\u001b[0;34m[\u001b[0m\u001b[0;36m0\u001b[0m\u001b[0;34m]\u001b[0m\u001b[0;34m.\u001b[0m\u001b[0mshape\u001b[0m\u001b[0;34m[\u001b[0m\u001b[0;36m1\u001b[0m\u001b[0;34m:\u001b[0m\u001b[0;34m]\u001b[0m\u001b[0;34m,\u001b[0m \u001b[0maxes\u001b[0m\u001b[0;34m,\u001b[0m \u001b[0me\u001b[0m\u001b[0;34m)\u001b[0m\u001b[0;34m\u001b[0m\u001b[0;34m\u001b[0m\u001b[0m\n\u001b[0m\u001b[1;32m   1682\u001b[0m \u001b[0;34m\u001b[0m\u001b[0m\n\u001b[1;32m   1683\u001b[0m \u001b[0;34m\u001b[0m\u001b[0m\n",
            "\u001b[0;31mValueError\u001b[0m: Shape of passed values is (30, 1), indices imply (5, 1)"
          ]
        }
      ],
      "source": [
        "scores = pd.DataFrame(scores, index = range(1, 6))\n",
        "scores.iloc[:,2:].mean()"
      ]
    },
    {
      "cell_type": "code",
      "execution_count": null,
      "metadata": {
        "id": "UWW3lKks5N-j"
      },
      "outputs": [],
      "source": [
        "train_val(y_train, y_train_pred, y_test, y_pred, \"ridge\")"
      ]
    },
    {
      "cell_type": "code",
      "execution_count": null,
      "metadata": {
        "id": "am_Z7jLI5Qrt"
      },
      "outputs": [],
      "source": [
        "sns.lineplot(data = scores.iloc[:,2:])"
      ]
    },
    {
      "cell_type": "code",
      "execution_count": null,
      "metadata": {
        "id": "jt6I6C225Ui_"
      },
      "outputs": [],
      "source": [
        "ridge_model.coef_"
      ]
    },
    {
      "cell_type": "code",
      "execution_count": null,
      "metadata": {
        "id": "8Dhk5aAs5ViG"
      },
      "outputs": [],
      "source": [
        "rm_df = pd.DataFrame(ridge_model.coef_, columns = [\"ridge_coef_1\"])"
      ]
    },
    {
      "cell_type": "code",
      "execution_count": 115,
      "metadata": {
        "id": "bNTqhrQqgNzk"
      },
      "outputs": [],
      "source": [
        "pd.options.display.float_format = '{:.3f}'.format"
      ]
    },
    {
      "cell_type": "code",
      "execution_count": null,
      "metadata": {
        "id": "4_rZFXet5XlR"
      },
      "outputs": [],
      "source": [
        "pd.concat([lm_df,rm_df], axis = 1)"
      ]
    },
    {
      "cell_type": "markdown",
      "metadata": {
        "id": "9ggcWpEO5cVj"
      },
      "source": [
        "Choosing best alpha value with Cross-Validation"
      ]
    },
    {
      "cell_type": "code",
      "execution_count": null,
      "metadata": {
        "id": "V76xJbID5dqO"
      },
      "outputs": [],
      "source": [
        "from sklearn.linear_model import RidgeCV"
      ]
    },
    {
      "cell_type": "code",
      "execution_count": null,
      "metadata": {
        "id": "clf0UYvr5dmo"
      },
      "outputs": [],
      "source": [
        "alpha_space = np.linspace(0.01, 1, 100)\n",
        "alpha_space"
      ]
    },
    {
      "cell_type": "code",
      "execution_count": null,
      "metadata": {
        "id": "8FHqAzE-5dh7"
      },
      "outputs": [],
      "source": [
        "ridge_cv_model = RidgeCV(alphas=alpha_space, cv = 5, scoring= \"neg_root_mean_squared_error\")"
      ]
    },
    {
      "cell_type": "code",
      "execution_count": null,
      "metadata": {
        "id": "b4YbtPOf5dfa"
      },
      "outputs": [],
      "source": [
        "ridge_cv_model.fit(X_train_scaled, y_train)"
      ]
    },
    {
      "cell_type": "code",
      "execution_count": null,
      "metadata": {
        "id": "MvQRyDgN5dcV"
      },
      "outputs": [],
      "source": [
        "ridge_cv_model.alpha_"
      ]
    },
    {
      "cell_type": "code",
      "execution_count": null,
      "metadata": {
        "id": "Acyfy1EV5dUX"
      },
      "outputs": [],
      "source": [
        "ridge_cv_model.best_score_"
      ]
    },
    {
      "cell_type": "code",
      "execution_count": null,
      "metadata": {
        "id": "Jh2DJc4I5mGz"
      },
      "outputs": [],
      "source": [
        "y_pred = ridge_cv_model.predict(X_test_scaled)\n",
        "y_train_pred = ridge_cv_model.predict(X_train_scaled)"
      ]
    },
    {
      "cell_type": "code",
      "execution_count": null,
      "metadata": {
        "id": "ga7OjRBM5pVk"
      },
      "outputs": [],
      "source": [
        "rcs = train_val(y_train, y_train_pred, y_test, y_pred, \"ridge_cv\")\n",
        "rcs"
      ]
    },
    {
      "cell_type": "code",
      "execution_count": null,
      "metadata": {
        "id": "8SB6VgE-5rc2"
      },
      "outputs": [],
      "source": [
        "pd.concat([ls, rs, rcs], axis = 1)"
      ]
    },
    {
      "cell_type": "code",
      "execution_count": null,
      "metadata": {
        "id": "vf-LnFtD5tGU"
      },
      "outputs": [],
      "source": [
        "ridge_cv_model.coef_"
      ]
    },
    {
      "cell_type": "code",
      "execution_count": null,
      "metadata": {
        "id": "KmOtjJbq5vUX"
      },
      "outputs": [],
      "source": [
        "rcm_df = pd.DataFrame(ridge_cv_model.coef_, columns=[\"ridge_cv_coef_0.02\"])"
      ]
    },
    {
      "cell_type": "code",
      "execution_count": null,
      "metadata": {
        "id": "jmeHYrDN5wI_"
      },
      "outputs": [],
      "source": [
        "pd.concat([lm_df,rm_df, rcm_df], axis = 1)"
      ]
    },
    {
      "cell_type": "markdown",
      "metadata": {
        "id": "B_T57TpNbV9V"
      },
      "source": [
        "# Lasso"
      ]
    },
    {
      "cell_type": "code",
      "execution_count": 119,
      "metadata": {
        "id": "MBAiMxBAbV9W"
      },
      "outputs": [],
      "source": [
        "from sklearn.linear_model import Lasso, LassoCV"
      ]
    },
    {
      "cell_type": "code",
      "execution_count": 120,
      "metadata": {
        "colab": {
          "base_uri": "https://localhost:8080/"
        },
        "id": "nUMMwQ6L52Gj",
        "outputId": "89fada6e-fc1d-4b7d-8b65-0218e705843b"
      },
      "outputs": [
        {
          "name": "stderr",
          "output_type": "stream",
          "text": [
            "/usr/local/lib/python3.7/dist-packages/sklearn/linear_model/_coordinate_descent.py:648: ConvergenceWarning: Objective did not converge. You might want to increase the number of iterations, check the scale of the features or consider increasing regularisation. Duality gap: 6.721e+08, tolerance: 6.165e+07\n",
            "  coef_, l1_reg, l2_reg, X, y, max_iter, tol, rng, random, positive\n"
          ]
        },
        {
          "data": {
            "text/plain": [
              "Lasso(alpha=1, random_state=42)"
            ]
          },
          "execution_count": 120,
          "metadata": {},
          "output_type": "execute_result"
        }
      ],
      "source": [
        "lasso_model = Lasso(alpha=1, random_state=42)\n",
        "lasso_model.fit(X_train_scaled, y_train)"
      ]
    },
    {
      "cell_type": "code",
      "execution_count": 121,
      "metadata": {
        "id": "w1WibwNc52ES"
      },
      "outputs": [],
      "source": [
        "y_pred = lasso_model.predict(X_test_scaled)\n",
        "y_train_pred = lasso_model.predict(X_train_scaled)"
      ]
    },
    {
      "cell_type": "code",
      "execution_count": 122,
      "metadata": {
        "colab": {
          "base_uri": "https://localhost:8080/",
          "height": 175
        },
        "id": "IxE0KkRr52BU",
        "outputId": "7927b76e-b61e-45a8-8b8e-35df3f7348a6"
      },
      "outputs": [
        {
          "data": {
            "text/html": [
              "\n",
              "  <div id=\"df-8130abb0-9a2b-4ec9-95ca-e9c4454ae708\">\n",
              "    <div class=\"colab-df-container\">\n",
              "      <div>\n",
              "<style scoped>\n",
              "    .dataframe tbody tr th:only-of-type {\n",
              "        vertical-align: middle;\n",
              "    }\n",
              "\n",
              "    .dataframe tbody tr th {\n",
              "        vertical-align: top;\n",
              "    }\n",
              "\n",
              "    .dataframe thead th {\n",
              "        text-align: right;\n",
              "    }\n",
              "</style>\n",
              "<table border=\"1\" class=\"dataframe\">\n",
              "  <thead>\n",
              "    <tr style=\"text-align: right;\">\n",
              "      <th></th>\n",
              "      <th>lasso_train</th>\n",
              "      <th>lasso_test</th>\n",
              "    </tr>\n",
              "  </thead>\n",
              "  <tbody>\n",
              "    <tr>\n",
              "      <th>R2</th>\n",
              "      <td>0.888</td>\n",
              "      <td>0.877</td>\n",
              "    </tr>\n",
              "    <tr>\n",
              "      <th>mae</th>\n",
              "      <td>1726.496</td>\n",
              "      <td>1794.332</td>\n",
              "    </tr>\n",
              "    <tr>\n",
              "      <th>mse</th>\n",
              "      <td>6187476.716</td>\n",
              "      <td>6488328.433</td>\n",
              "    </tr>\n",
              "    <tr>\n",
              "      <th>rmse</th>\n",
              "      <td>2487.464</td>\n",
              "      <td>2547.220</td>\n",
              "    </tr>\n",
              "  </tbody>\n",
              "</table>\n",
              "</div>\n",
              "      <button class=\"colab-df-convert\" onclick=\"convertToInteractive('df-8130abb0-9a2b-4ec9-95ca-e9c4454ae708')\"\n",
              "              title=\"Convert this dataframe to an interactive table.\"\n",
              "              style=\"display:none;\">\n",
              "        \n",
              "  <svg xmlns=\"http://www.w3.org/2000/svg\" height=\"24px\"viewBox=\"0 0 24 24\"\n",
              "       width=\"24px\">\n",
              "    <path d=\"M0 0h24v24H0V0z\" fill=\"none\"/>\n",
              "    <path d=\"M18.56 5.44l.94 2.06.94-2.06 2.06-.94-2.06-.94-.94-2.06-.94 2.06-2.06.94zm-11 1L8.5 8.5l.94-2.06 2.06-.94-2.06-.94L8.5 2.5l-.94 2.06-2.06.94zm10 10l.94 2.06.94-2.06 2.06-.94-2.06-.94-.94-2.06-.94 2.06-2.06.94z\"/><path d=\"M17.41 7.96l-1.37-1.37c-.4-.4-.92-.59-1.43-.59-.52 0-1.04.2-1.43.59L10.3 9.45l-7.72 7.72c-.78.78-.78 2.05 0 2.83L4 21.41c.39.39.9.59 1.41.59.51 0 1.02-.2 1.41-.59l7.78-7.78 2.81-2.81c.8-.78.8-2.07 0-2.86zM5.41 20L4 18.59l7.72-7.72 1.47 1.35L5.41 20z\"/>\n",
              "  </svg>\n",
              "      </button>\n",
              "      \n",
              "  <style>\n",
              "    .colab-df-container {\n",
              "      display:flex;\n",
              "      flex-wrap:wrap;\n",
              "      gap: 12px;\n",
              "    }\n",
              "\n",
              "    .colab-df-convert {\n",
              "      background-color: #E8F0FE;\n",
              "      border: none;\n",
              "      border-radius: 50%;\n",
              "      cursor: pointer;\n",
              "      display: none;\n",
              "      fill: #1967D2;\n",
              "      height: 32px;\n",
              "      padding: 0 0 0 0;\n",
              "      width: 32px;\n",
              "    }\n",
              "\n",
              "    .colab-df-convert:hover {\n",
              "      background-color: #E2EBFA;\n",
              "      box-shadow: 0px 1px 2px rgba(60, 64, 67, 0.3), 0px 1px 3px 1px rgba(60, 64, 67, 0.15);\n",
              "      fill: #174EA6;\n",
              "    }\n",
              "\n",
              "    [theme=dark] .colab-df-convert {\n",
              "      background-color: #3B4455;\n",
              "      fill: #D2E3FC;\n",
              "    }\n",
              "\n",
              "    [theme=dark] .colab-df-convert:hover {\n",
              "      background-color: #434B5C;\n",
              "      box-shadow: 0px 1px 3px 1px rgba(0, 0, 0, 0.15);\n",
              "      filter: drop-shadow(0px 1px 2px rgba(0, 0, 0, 0.3));\n",
              "      fill: #FFFFFF;\n",
              "    }\n",
              "  </style>\n",
              "\n",
              "      <script>\n",
              "        const buttonEl =\n",
              "          document.querySelector('#df-8130abb0-9a2b-4ec9-95ca-e9c4454ae708 button.colab-df-convert');\n",
              "        buttonEl.style.display =\n",
              "          google.colab.kernel.accessAllowed ? 'block' : 'none';\n",
              "\n",
              "        async function convertToInteractive(key) {\n",
              "          const element = document.querySelector('#df-8130abb0-9a2b-4ec9-95ca-e9c4454ae708');\n",
              "          const dataTable =\n",
              "            await google.colab.kernel.invokeFunction('convertToInteractive',\n",
              "                                                     [key], {});\n",
              "          if (!dataTable) return;\n",
              "\n",
              "          const docLinkHtml = 'Like what you see? Visit the ' +\n",
              "            '<a target=\"_blank\" href=https://colab.research.google.com/notebooks/data_table.ipynb>data table notebook</a>'\n",
              "            + ' to learn more about interactive tables.';\n",
              "          element.innerHTML = '';\n",
              "          dataTable['output_type'] = 'display_data';\n",
              "          await google.colab.output.renderOutput(dataTable, element);\n",
              "          const docLink = document.createElement('div');\n",
              "          docLink.innerHTML = docLinkHtml;\n",
              "          element.appendChild(docLink);\n",
              "        }\n",
              "      </script>\n",
              "    </div>\n",
              "  </div>\n",
              "  "
            ],
            "text/plain": [
              "      lasso_train  lasso_test\n",
              "R2          0.888       0.877\n",
              "mae      1726.496    1794.332\n",
              "mse   6187476.716 6488328.433\n",
              "rmse     2487.464    2547.220"
            ]
          },
          "execution_count": 122,
          "metadata": {},
          "output_type": "execute_result"
        }
      ],
      "source": [
        "lss = train_val(y_train, y_train_pred, y_test, y_pred, \"lasso\")\n",
        "lss"
      ]
    },
    {
      "cell_type": "code",
      "execution_count": 123,
      "metadata": {
        "colab": {
          "base_uri": "https://localhost:8080/",
          "height": 166
        },
        "id": "pgFthe7y51-u",
        "outputId": "8355be50-102a-4759-bc72-11eb231e9fb2"
      },
      "outputs": [
        {
          "ename": "NameError",
          "evalue": "ignored",
          "output_type": "error",
          "traceback": [
            "\u001b[0;31m---------------------------------------------------------------------------\u001b[0m",
            "\u001b[0;31mNameError\u001b[0m                                 Traceback (most recent call last)",
            "\u001b[0;32m<ipython-input-123-707aa09a2ebc>\u001b[0m in \u001b[0;36m<module>\u001b[0;34m()\u001b[0m\n\u001b[0;32m----> 1\u001b[0;31m \u001b[0mpd\u001b[0m\u001b[0;34m.\u001b[0m\u001b[0mconcat\u001b[0m\u001b[0;34m(\u001b[0m\u001b[0;34m[\u001b[0m\u001b[0mls\u001b[0m\u001b[0;34m,\u001b[0m \u001b[0mrs\u001b[0m\u001b[0;34m,\u001b[0m \u001b[0mrcs\u001b[0m\u001b[0;34m,\u001b[0m \u001b[0mlss\u001b[0m\u001b[0;34m]\u001b[0m\u001b[0;34m,\u001b[0m \u001b[0maxis\u001b[0m \u001b[0;34m=\u001b[0m \u001b[0;36m1\u001b[0m\u001b[0;34m)\u001b[0m\u001b[0;34m\u001b[0m\u001b[0;34m\u001b[0m\u001b[0m\n\u001b[0m",
            "\u001b[0;31mNameError\u001b[0m: name 'rcs' is not defined"
          ]
        }
      ],
      "source": [
        "pd.concat([ls, rs, rcs, lss], axis = 1)"
      ]
    },
    {
      "cell_type": "markdown",
      "metadata": {
        "id": "9whpSumH5-yK"
      },
      "source": [
        "For Lasso CV with Default Alpha : 1"
      ]
    },
    {
      "cell_type": "code",
      "execution_count": null,
      "metadata": {
        "id": "o7VzbsKr6EoG"
      },
      "outputs": [],
      "source": [
        "model = Lasso(alpha=1, random_state=42)\n",
        "scores = cross_validate(model, X_train_scaled, y_train,\n",
        "                        scoring=['r2', 'neg_mean_absolute_error','neg_mean_squared_error','neg_root_mean_squared_error'], cv=5)"
      ]
    },
    {
      "cell_type": "code",
      "execution_count": null,
      "metadata": {
        "id": "sTy9S5wP6ElU"
      },
      "outputs": [],
      "source": [
        "pd.DataFrame(scores, index = range(1, 6))"
      ]
    },
    {
      "cell_type": "code",
      "execution_count": null,
      "metadata": {
        "id": "Brizw5it6EiO"
      },
      "outputs": [],
      "source": [
        "scores = pd.DataFrame(scores, index = range(1, 6))\n",
        "scores.iloc[:,2:].mean()"
      ]
    },
    {
      "cell_type": "code",
      "execution_count": null,
      "metadata": {
        "id": "ytDaffDt6EfM"
      },
      "outputs": [],
      "source": [
        "train_val(y_train, y_train_pred, y_test, y_pred, \"lasso\")"
      ]
    },
    {
      "cell_type": "code",
      "execution_count": null,
      "metadata": {
        "id": "EW7WzzFL6Eac"
      },
      "outputs": [],
      "source": [
        "sns.lineplot(data = scores.iloc[:,2:])"
      ]
    },
    {
      "cell_type": "code",
      "execution_count": null,
      "metadata": {
        "id": "kek5DNTw6EXr"
      },
      "outputs": [],
      "source": [
        "lasso_model.coef_"
      ]
    },
    {
      "cell_type": "code",
      "execution_count": null,
      "metadata": {
        "id": "6tHyqwzv6R0-"
      },
      "outputs": [],
      "source": [
        "lsm_df = pd.DataFrame(lasso_model.coef_, columns = [\"lasso_coef_1\"])"
      ]
    },
    {
      "cell_type": "code",
      "execution_count": null,
      "metadata": {
        "id": "qk5uTiiH6RyE"
      },
      "outputs": [],
      "source": [
        "pd.concat([lm_df, rm_df, rcm_df, lsm_df], axis = 1)"
      ]
    },
    {
      "cell_type": "markdown",
      "metadata": {
        "id": "ShZ4_skC6YmN"
      },
      "source": [
        "Choosing best alpha value with Cross-Validation"
      ]
    },
    {
      "cell_type": "code",
      "execution_count": null,
      "metadata": {
        "id": "P8J3a4wz6RvG"
      },
      "outputs": [],
      "source": [
        "lasso_cv_model = LassoCV(alphas = alpha_space, cv = 5, max_iter=100000, random_state=42)"
      ]
    },
    {
      "cell_type": "code",
      "execution_count": null,
      "metadata": {
        "id": "AKn6IeD76RsQ"
      },
      "outputs": [],
      "source": [
        "lasso_cv_model.fit(X_train_scaled, y_train)"
      ]
    },
    {
      "cell_type": "code",
      "execution_count": null,
      "metadata": {
        "id": "SFMSaNen6Rne"
      },
      "outputs": [],
      "source": [
        "lasso_cv_model.alpha_"
      ]
    },
    {
      "cell_type": "code",
      "execution_count": null,
      "metadata": {
        "id": "_XBiyy4m6RkJ"
      },
      "outputs": [],
      "source": [
        "np.where(alpha_space[::-1]==lasso_cv_model.alpha_)"
      ]
    },
    {
      "cell_type": "code",
      "execution_count": null,
      "metadata": {
        "id": "ttD8n7hk6iQD"
      },
      "outputs": [],
      "source": [
        "alpha_space[::-1]"
      ]
    },
    {
      "cell_type": "code",
      "execution_count": null,
      "metadata": {
        "id": "dRVyYo-G6qzC"
      },
      "outputs": [],
      "source": [
        "#mse score for CV\n",
        "lasso_cv_model.mse_path_[-1].mean()"
      ]
    },
    {
      "cell_type": "code",
      "execution_count": null,
      "metadata": {
        "id": "037WFgN26s38"
      },
      "outputs": [],
      "source": [
        "y_pred = lasso_cv_model.predict(X_test_scaled)   #Lasso(alpha =0.01)\n",
        "y_train_pred = lasso_cv_model.predict(X_train_scaled)"
      ]
    },
    {
      "cell_type": "code",
      "execution_count": null,
      "metadata": {
        "id": "eTXiK0W76vB1"
      },
      "outputs": [],
      "source": [
        "lcs = train_val(y_train, y_train_pred, y_test, y_pred, \"lasso_cv\")\n",
        "lcs"
      ]
    },
    {
      "cell_type": "code",
      "execution_count": null,
      "metadata": {
        "id": "L7dlkskB6u-4"
      },
      "outputs": [],
      "source": [
        "pd.concat([ls,rs, rcs, lss, lcs], axis = 1)"
      ]
    },
    {
      "cell_type": "code",
      "execution_count": null,
      "metadata": {
        "id": "mlvCiOKV6u7V"
      },
      "outputs": [],
      "source": [
        "lasso_cv_model.coef_"
      ]
    },
    {
      "cell_type": "code",
      "execution_count": null,
      "metadata": {
        "id": "j0lZ0iHj635y"
      },
      "outputs": [],
      "source": [
        "lcm_df = pd.DataFrame(lasso_cv_model.coef_, columns = [\"lasso_cv_coef_0.01\"])"
      ]
    },
    {
      "cell_type": "code",
      "execution_count": null,
      "metadata": {
        "id": "-M_P2pkC6328"
      },
      "outputs": [],
      "source": [
        "pd.concat([lm_df, rm_df, rcm_df, lsm_df, lcm_df], axis = 1)"
      ]
    },
    {
      "cell_type": "code",
      "execution_count": null,
      "metadata": {
        "id": "nhw4m86-630M"
      },
      "outputs": [],
      "source": []
    },
    {
      "cell_type": "code",
      "execution_count": null,
      "metadata": {
        "id": "xKBzBX4J63xK"
      },
      "outputs": [],
      "source": []
    },
    {
      "cell_type": "markdown",
      "metadata": {
        "id": "26QEobIEbV9X"
      },
      "source": [
        "## Elastic-Net "
      ]
    },
    {
      "cell_type": "code",
      "execution_count": null,
      "metadata": {
        "id": "hIgltF9YbV9Y"
      },
      "outputs": [],
      "source": [
        "from sklearn.linear_model import ElasticNet, ElasticNetCV"
      ]
    },
    {
      "cell_type": "code",
      "execution_count": null,
      "metadata": {
        "id": "uJuf3osU7Gtk"
      },
      "outputs": [],
      "source": [
        "elastic_model = ElasticNet(alpha=1, l1_ratio=0.5, random_state=42)\n",
        "elastic_model.fit(X_train_scaled, y_train)"
      ]
    },
    {
      "cell_type": "code",
      "execution_count": null,
      "metadata": {
        "id": "1flkHMcM7Gq9"
      },
      "outputs": [],
      "source": [
        "y_pred = elastic_model.predict(X_test_scaled)\n",
        "y_train_pred = elastic_model.predict(X_train_scaled)"
      ]
    },
    {
      "cell_type": "code",
      "execution_count": null,
      "metadata": {
        "id": "g9u8uC-N7Gn7"
      },
      "outputs": [],
      "source": [
        "es = train_val(y_train, y_train_pred, y_test, y_pred, \"elastic\")\n",
        "es"
      ]
    },
    {
      "cell_type": "code",
      "execution_count": null,
      "metadata": {
        "id": "yZz820ee7GlA"
      },
      "outputs": [],
      "source": [
        "pd.concat([ls,rs, rcs, lss, lcs, es], axis = 1)"
      ]
    },
    {
      "cell_type": "markdown",
      "metadata": {
        "id": "9-1eVK4g7O4F"
      },
      "source": [
        "For Elastic_net CV with Default alpha = 1 and l1_ratio=0.5"
      ]
    },
    {
      "cell_type": "code",
      "execution_count": null,
      "metadata": {
        "id": "ah4TZvUd7GjE"
      },
      "outputs": [],
      "source": [
        "model = ElasticNet(alpha=1, l1_ratio=0.5, random_state=42)\n",
        "scores = cross_validate(model, X_train_scaled, y_train,\n",
        "                        scoring=['r2', 'neg_mean_absolute_error','neg_mean_squared_error','neg_root_mean_squared_error'], cv=5)"
      ]
    },
    {
      "cell_type": "code",
      "execution_count": null,
      "metadata": {
        "id": "98NcZw857GhP"
      },
      "outputs": [],
      "source": [
        "scores = pd.DataFrame(scores, index = range(1, 6))\n",
        "scores.iloc[:,2:]"
      ]
    },
    {
      "cell_type": "code",
      "execution_count": null,
      "metadata": {
        "id": "bL-s2n8L7GeZ"
      },
      "outputs": [],
      "source": [
        "scores = pd.DataFrame(scores, index = range(1, 11))\n",
        "scores.iloc[:,2:].mean()"
      ]
    },
    {
      "cell_type": "code",
      "execution_count": null,
      "metadata": {
        "id": "RCziaZWp7GcN"
      },
      "outputs": [],
      "source": [
        "train_val(y_train, y_train_pred, y_test, y_pred, \"elastic\")"
      ]
    },
    {
      "cell_type": "code",
      "execution_count": null,
      "metadata": {
        "id": "33p5NyLX7GZu"
      },
      "outputs": [],
      "source": [
        "elastic_model.coef_"
      ]
    },
    {
      "cell_type": "code",
      "execution_count": null,
      "metadata": {
        "id": "_Puav0sV7GXP"
      },
      "outputs": [],
      "source": [
        "em_df = pd.DataFrame(elastic_model.coef_, columns=[\"elastic_coef_(alp:1, l1:0.5)\"])"
      ]
    },
    {
      "cell_type": "code",
      "execution_count": null,
      "metadata": {
        "id": "JMJbi9Fd7a3I"
      },
      "outputs": [],
      "source": [
        "pd.concat([lm_df, rm_df, rcm_df, lsm_df, lcm_df, em_df], axis = 1)"
      ]
    },
    {
      "cell_type": "markdown",
      "metadata": {
        "id": "Du5w-B2n7f0C"
      },
      "source": [
        "Choosing best alpha and l1_ratio values with Cross-Validation"
      ]
    },
    {
      "cell_type": "code",
      "execution_count": null,
      "metadata": {
        "id": "KAnDwLNL7a0i"
      },
      "outputs": [],
      "source": [
        "elastic_cv_model = ElasticNetCV(alphas = alpha_space, l1_ratio=[0.1, 0.5, 0.7,0.9, 0.95, 1], cv = 5, \n",
        "                                max_iter = 100000,random_state=42)"
      ]
    },
    {
      "cell_type": "code",
      "execution_count": null,
      "metadata": {
        "id": "jIT9JCrI7ayJ"
      },
      "outputs": [],
      "source": [
        "elastic_cv_model.fit(X_train_scaled, y_train)"
      ]
    },
    {
      "cell_type": "code",
      "execution_count": null,
      "metadata": {
        "id": "zTXiM9hh7avO"
      },
      "outputs": [],
      "source": [
        "elastic_cv_model.alpha_"
      ]
    },
    {
      "cell_type": "code",
      "execution_count": null,
      "metadata": {
        "id": "jdhOZagS7GR9"
      },
      "outputs": [],
      "source": [
        "elastic_cv_model.l1_ratio_"
      ]
    },
    {
      "cell_type": "code",
      "execution_count": null,
      "metadata": {
        "id": "U-UBy72M7GOq"
      },
      "outputs": [],
      "source": [
        "#mse score for CV\n",
        "elastic_cv_model.mse_path_[5][-1].mean()"
      ]
    },
    {
      "cell_type": "code",
      "execution_count": null,
      "metadata": {
        "id": "mFIvpaX2708G"
      },
      "outputs": [],
      "source": [
        "y_pred = elastic_cv_model.predict(X_test_scaled)\n",
        "y_train_pred = elastic_cv_model.predict(X_train_scaled)"
      ]
    },
    {
      "cell_type": "code",
      "execution_count": null,
      "metadata": {
        "id": "6zNqaP1Q702v"
      },
      "outputs": [],
      "source": [
        "ecs = train_val(y_train, y_train_pred, y_test, y_pred, \"elastic_cv\")\n",
        "ecs"
      ]
    },
    {
      "cell_type": "code",
      "execution_count": null,
      "metadata": {
        "id": "WP2lJLfl8qeP"
      },
      "outputs": [],
      "source": [
        "pd.concat([ls,rs, rcs, lss, lcs, es, ecs], axis = 1)"
      ]
    },
    {
      "cell_type": "code",
      "execution_count": null,
      "metadata": {
        "id": "mwP8evp-8tr-"
      },
      "outputs": [],
      "source": [
        "elastic_cv_model.coef_"
      ]
    },
    {
      "cell_type": "code",
      "execution_count": null,
      "metadata": {
        "id": "jg8EMjFh8vYu"
      },
      "outputs": [],
      "source": [
        "ecm_df = pd.DataFrame(elastic_cv_model.coef_, columns=[\"elastic_coef_(alp:0.01, l1:1)\"])"
      ]
    },
    {
      "cell_type": "code",
      "execution_count": null,
      "metadata": {
        "id": "Xvm6paRe8xjH"
      },
      "outputs": [],
      "source": [
        "pd.concat([lm_df, rm_df, rcm_df, lsm_df, lcm_df, em_df, ecm_df], axis = 1)"
      ]
    },
    {
      "cell_type": "code",
      "execution_count": null,
      "metadata": {
        "id": "dasN3fYj82Qg"
      },
      "outputs": [],
      "source": []
    },
    {
      "cell_type": "markdown",
      "metadata": {
        "id": "zb5oqzVR85oW"
      },
      "source": [
        "##Grid Search"
      ]
    },
    {
      "cell_type": "code",
      "execution_count": null,
      "metadata": {
        "id": "L5W2GDGD88SP"
      },
      "outputs": [],
      "source": [
        "from sklearn.model_selection import GridSearchCV"
      ]
    },
    {
      "cell_type": "code",
      "execution_count": null,
      "metadata": {
        "id": "OdYokf4Z8-YV"
      },
      "outputs": [],
      "source": [
        "elastic_model = ElasticNet(max_iter=10000, random_state=42)"
      ]
    },
    {
      "cell_type": "code",
      "execution_count": null,
      "metadata": {
        "id": "v5PQ8pgV9ACB"
      },
      "outputs": [],
      "source": [
        "param_grid = {\"alpha\":[0.01, 0.012, 0.2, 0.5, 0.6, 0.7, 1],\n",
        "            \"l1_ratio\":[0.1, 0.5, 0.7, 0.9, 0.95, 0.99, 1]}"
      ]
    },
    {
      "cell_type": "code",
      "execution_count": null,
      "metadata": {
        "id": "IQ4qJT-l9Cu3"
      },
      "outputs": [],
      "source": [
        "grid_model = GridSearchCV(estimator = elastic_model, param_grid = param_grid, scoring = 'neg_root_mean_squared_error',\n",
        "                         cv =5, verbose =2)"
      ]
    },
    {
      "cell_type": "code",
      "execution_count": null,
      "metadata": {
        "id": "Yv7l9-8F9Ecm"
      },
      "outputs": [],
      "source": [
        "grid_model.fit(X_train_scaled, y_train)"
      ]
    },
    {
      "cell_type": "code",
      "execution_count": null,
      "metadata": {
        "id": "avy9alhi9HTc"
      },
      "outputs": [],
      "source": [
        "grid_model.best_params_"
      ]
    },
    {
      "cell_type": "code",
      "execution_count": null,
      "metadata": {
        "id": "Y9bvwMiA9JEh"
      },
      "outputs": [],
      "source": [
        "pd.DataFrame(grid_model.cv_results_)"
      ]
    },
    {
      "cell_type": "code",
      "execution_count": null,
      "metadata": {
        "id": "uYJIuRlD9KKz"
      },
      "outputs": [],
      "source": [
        "grid_model.best_index_"
      ]
    },
    {
      "cell_type": "code",
      "execution_count": null,
      "metadata": {
        "id": "D7db7QLr9OBW"
      },
      "outputs": [],
      "source": [
        "grid_model.best_score_"
      ]
    },
    {
      "cell_type": "markdown",
      "metadata": {
        "id": "JXVjuzPm9Pp_"
      },
      "source": [
        "##Using Best Hyper Parameters From GridSearch"
      ]
    },
    {
      "cell_type": "code",
      "execution_count": null,
      "metadata": {
        "id": "wXKG8t3g9TEK"
      },
      "outputs": [],
      "source": [
        "y_pred = grid_model.predict(X_test_scaled)\n",
        "y_train_pred = grid_model.predict(X_train_scaled)"
      ]
    },
    {
      "cell_type": "code",
      "execution_count": null,
      "metadata": {
        "id": "58JsrE029U4q"
      },
      "outputs": [],
      "source": [
        "train_val(y_train, y_train_pred, y_test, y_pred, \"GridSearch\")"
      ]
    },
    {
      "cell_type": "markdown",
      "metadata": {
        "id": "n72N9-iE9YJF"
      },
      "source": [
        "##Final Model"
      ]
    },
    {
      "cell_type": "code",
      "execution_count": 118,
      "metadata": {
        "colab": {
          "base_uri": "https://localhost:8080/",
          "height": 183
        },
        "id": "xelgf6c69WjK",
        "outputId": "27825ba0-31a8-40ca-beef-6c7518423a22"
      },
      "outputs": [
        {
          "ename": "NameError",
          "evalue": "ignored",
          "output_type": "error",
          "traceback": [
            "\u001b[0;31m---------------------------------------------------------------------------\u001b[0m",
            "\u001b[0;31mNameError\u001b[0m                                 Traceback (most recent call last)",
            "\u001b[0;32m<ipython-input-118-9b6e64976f69>\u001b[0m in \u001b[0;36m<module>\u001b[0;34m()\u001b[0m\n\u001b[1;32m      1\u001b[0m \u001b[0mfinal_scaler\u001b[0m \u001b[0;34m=\u001b[0m \u001b[0mStandardScaler\u001b[0m\u001b[0;34m(\u001b[0m\u001b[0;34m)\u001b[0m\u001b[0;34m\u001b[0m\u001b[0;34m\u001b[0m\u001b[0m\n\u001b[0;32m----> 2\u001b[0;31m \u001b[0mX_scaled\u001b[0m \u001b[0;34m=\u001b[0m \u001b[0mfinal_scaler\u001b[0m\u001b[0;34m.\u001b[0m\u001b[0mfit_transform\u001b[0m\u001b[0;34m(\u001b[0m\u001b[0mpoly_features\u001b[0m\u001b[0;34m)\u001b[0m\u001b[0;34m\u001b[0m\u001b[0;34m\u001b[0m\u001b[0m\n\u001b[0m",
            "\u001b[0;31mNameError\u001b[0m: name 'poly_features' is not defined"
          ]
        }
      ],
      "source": [
        "final_scaler = StandardScaler()\n",
        "X_scaled = final_scaler.fit_transform(poly_features)"
      ]
    },
    {
      "cell_type": "code",
      "execution_count": null,
      "metadata": {
        "id": "gCtE5jZM9ceC"
      },
      "outputs": [],
      "source": [
        "final_model = Lasso(alpha=0.01) #lasso_cv_model"
      ]
    },
    {
      "cell_type": "code",
      "execution_count": null,
      "metadata": {
        "id": "28-cDaer9ca8"
      },
      "outputs": [],
      "source": [
        "final_model.fit(X_scaled, y)"
      ]
    },
    {
      "cell_type": "markdown",
      "metadata": {
        "id": "_h1WFbz69p26"
      },
      "source": [
        "##Feature importances with Ridge"
      ]
    },
    {
      "cell_type": "code",
      "execution_count": null,
      "metadata": {
        "id": "P9XPIR579cYT"
      },
      "outputs": [],
      "source": [
        "from yellowbrick.model_selection import FeatureImportances\n",
        "from yellowbrick.features import RadViz\n",
        "\n",
        "viz = FeatureImportances(ridge_cv_model, labels=pd.DataFrame(X_train).columns)\n",
        "visualizer = RadViz(size=(720, 3000))\n",
        "viz.fit(X_train, y_train)\n",
        "viz.show()"
      ]
    },
    {
      "cell_type": "markdown",
      "metadata": {
        "id": "Ldoxg79t9tuO"
      },
      "source": [
        "##Feature importances with Lasso"
      ]
    },
    {
      "cell_type": "code",
      "execution_count": null,
      "metadata": {
        "id": "9Al4DyVK9cT-"
      },
      "outputs": [],
      "source": [
        "from yellowbrick.model_selection import FeatureImportances\n",
        "from yellowbrick.features import RadViz\n",
        "\n",
        "viz = FeatureImportances(lasso_cv_model, labels=pd.DataFrame(X_train).columns)\n",
        "visualizer = RadViz(size=(720, 3000))\n",
        "viz.fit(X_train, y_train)\n",
        "viz.show()"
      ]
    }
  ],
  "metadata": {
    "colab": {
      "collapsed_sections": [],
      "name": "used_car_price_prediction_with_Lineer_Regression.ipynb",
      "provenance": []
    },
    "kernelspec": {
      "display_name": "Python 3",
      "language": "python",
      "name": "python3"
    },
    "language_info": {
      "codemirror_mode": {
        "name": "ipython",
        "version": 3
      },
      "file_extension": ".py",
      "mimetype": "text/x-python",
      "name": "python",
      "nbconvert_exporter": "python",
      "pygments_lexer": "ipython3",
      "version": "3.9.7"
    }
  },
  "nbformat": 4,
  "nbformat_minor": 0
}
